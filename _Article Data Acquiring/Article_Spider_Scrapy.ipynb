{
 "cells": [
  {
   "cell_type": "code",
   "execution_count": 1,
   "id": "f45273f4",
   "metadata": {},
   "outputs": [
    {
     "name": "stdout",
     "output_type": "stream",
     "text": [
      "Requirement already satisfied: scrapy in c:\\users\\chhal\\documents\\discord_bot\\newsbased-market-predictor\\newspredictorenv\\lib\\site-packages (2.6.2)\n",
      "Requirement already satisfied: w3lib>=1.17.0 in c:\\users\\chhal\\documents\\discord_bot\\newsbased-market-predictor\\newspredictorenv\\lib\\site-packages (from scrapy) (2.0.1)\n",
      "Requirement already satisfied: pyOpenSSL>=16.2.0 in c:\\users\\chhal\\documents\\discord_bot\\newsbased-market-predictor\\newspredictorenv\\lib\\site-packages (from scrapy) (22.0.0)\n",
      "Requirement already satisfied: zope.interface>=4.1.3 in c:\\users\\chhal\\documents\\discord_bot\\newsbased-market-predictor\\newspredictorenv\\lib\\site-packages (from scrapy) (5.4.0)\n",
      "Requirement already satisfied: service-identity>=16.0.0 in c:\\users\\chhal\\documents\\discord_bot\\newsbased-market-predictor\\newspredictorenv\\lib\\site-packages (from scrapy) (21.1.0)\n",
      "Requirement already satisfied: lxml>=3.5.0 in c:\\users\\chhal\\documents\\discord_bot\\newsbased-market-predictor\\newspredictorenv\\lib\\site-packages (from scrapy) (4.9.1)\n",
      "Requirement already satisfied: PyDispatcher>=2.0.5 in c:\\users\\chhal\\documents\\discord_bot\\newsbased-market-predictor\\newspredictorenv\\lib\\site-packages (from scrapy) (2.0.6)\n",
      "Requirement already satisfied: protego>=0.1.15 in c:\\users\\chhal\\documents\\discord_bot\\newsbased-market-predictor\\newspredictorenv\\lib\\site-packages (from scrapy) (0.2.1)\n",
      "Requirement already satisfied: tldextract in c:\\users\\chhal\\documents\\discord_bot\\newsbased-market-predictor\\newspredictorenv\\lib\\site-packages (from scrapy) (3.3.1)\n",
      "Requirement already satisfied: setuptools in c:\\users\\chhal\\documents\\discord_bot\\newsbased-market-predictor\\newspredictorenv\\lib\\site-packages (from scrapy) (56.0.0)\n",
      "Requirement already satisfied: cryptography>=2.0 in c:\\users\\chhal\\documents\\discord_bot\\newsbased-market-predictor\\newspredictorenv\\lib\\site-packages (from scrapy) (38.0.1)\n",
      "Requirement already satisfied: itemloaders>=1.0.1 in c:\\users\\chhal\\documents\\discord_bot\\newsbased-market-predictor\\newspredictorenv\\lib\\site-packages (from scrapy) (1.0.6)\n",
      "Requirement already satisfied: parsel>=1.5.0 in c:\\users\\chhal\\documents\\discord_bot\\newsbased-market-predictor\\newspredictorenv\\lib\\site-packages (from scrapy) (1.6.0)\n",
      "Requirement already satisfied: Twisted>=17.9.0 in c:\\users\\chhal\\documents\\discord_bot\\newsbased-market-predictor\\newspredictorenv\\lib\\site-packages (from scrapy) (22.8.0)\n",
      "Requirement already satisfied: cssselect>=0.9.1 in c:\\users\\chhal\\documents\\discord_bot\\newsbased-market-predictor\\newspredictorenv\\lib\\site-packages (from scrapy) (1.1.0)\n",
      "Requirement already satisfied: itemadapter>=0.1.0 in c:\\users\\chhal\\documents\\discord_bot\\newsbased-market-predictor\\newspredictorenv\\lib\\site-packages (from scrapy) (0.7.0)\n",
      "Requirement already satisfied: queuelib>=1.4.2 in c:\\users\\chhal\\documents\\discord_bot\\newsbased-market-predictor\\newspredictorenv\\lib\\site-packages (from scrapy) (1.6.2)\n",
      "Requirement already satisfied: cffi>=1.12 in c:\\users\\chhal\\documents\\discord_bot\\newsbased-market-predictor\\newspredictorenv\\lib\\site-packages (from cryptography>=2.0->scrapy) (1.15.1)\n",
      "Requirement already satisfied: jmespath>=0.9.5 in c:\\users\\chhal\\documents\\discord_bot\\newsbased-market-predictor\\newspredictorenv\\lib\\site-packages (from itemloaders>=1.0.1->scrapy) (1.0.1)\n",
      "Requirement already satisfied: six>=1.6.0 in c:\\users\\chhal\\documents\\discord_bot\\newsbased-market-predictor\\newspredictorenv\\lib\\site-packages (from parsel>=1.5.0->scrapy) (1.16.0)\n",
      "Requirement already satisfied: pyasn1-modules in c:\\users\\chhal\\documents\\discord_bot\\newsbased-market-predictor\\newspredictorenv\\lib\\site-packages (from service-identity>=16.0.0->scrapy) (0.2.8)\n",
      "Requirement already satisfied: pyasn1 in c:\\users\\chhal\\documents\\discord_bot\\newsbased-market-predictor\\newspredictorenv\\lib\\site-packages (from service-identity>=16.0.0->scrapy) (0.4.8)\n",
      "Requirement already satisfied: attrs>=19.1.0 in c:\\users\\chhal\\documents\\discord_bot\\newsbased-market-predictor\\newspredictorenv\\lib\\site-packages (from service-identity>=16.0.0->scrapy) (22.1.0)\n",
      "Requirement already satisfied: typing-extensions>=3.6.5 in c:\\users\\chhal\\documents\\discord_bot\\newsbased-market-predictor\\newspredictorenv\\lib\\site-packages (from Twisted>=17.9.0->scrapy) (4.3.0)\n",
      "Requirement already satisfied: constantly>=15.1 in c:\\users\\chhal\\documents\\discord_bot\\newsbased-market-predictor\\newspredictorenv\\lib\\site-packages (from Twisted>=17.9.0->scrapy) (15.1.0)\n",
      "Requirement already satisfied: hyperlink>=17.1.1 in c:\\users\\chhal\\documents\\discord_bot\\newsbased-market-predictor\\newspredictorenv\\lib\\site-packages (from Twisted>=17.9.0->scrapy) (21.0.0)\n",
      "Requirement already satisfied: Automat>=0.8.0 in c:\\users\\chhal\\documents\\discord_bot\\newsbased-market-predictor\\newspredictorenv\\lib\\site-packages (from Twisted>=17.9.0->scrapy) (20.2.0)\n",
      "Requirement already satisfied: incremental>=21.3.0 in c:\\users\\chhal\\documents\\discord_bot\\newsbased-market-predictor\\newspredictorenv\\lib\\site-packages (from Twisted>=17.9.0->scrapy) (21.3.0)\n",
      "Requirement already satisfied: twisted-iocpsupport<2,>=1.0.2 in c:\\users\\chhal\\documents\\discord_bot\\newsbased-market-predictor\\newspredictorenv\\lib\\site-packages (from Twisted>=17.9.0->scrapy) (1.0.2)\n",
      "Requirement already satisfied: idna in c:\\users\\chhal\\documents\\discord_bot\\newsbased-market-predictor\\newspredictorenv\\lib\\site-packages (from tldextract->scrapy) (3.3)\n",
      "Requirement already satisfied: requests>=2.1.0 in c:\\users\\chhal\\documents\\discord_bot\\newsbased-market-predictor\\newspredictorenv\\lib\\site-packages (from tldextract->scrapy) (2.28.1)\n",
      "Requirement already satisfied: requests-file>=1.4 in c:\\users\\chhal\\documents\\discord_bot\\newsbased-market-predictor\\newspredictorenv\\lib\\site-packages (from tldextract->scrapy) (1.5.1)\n",
      "Requirement already satisfied: filelock>=3.0.8 in c:\\users\\chhal\\documents\\discord_bot\\newsbased-market-predictor\\newspredictorenv\\lib\\site-packages (from tldextract->scrapy) (3.8.0)\n",
      "Requirement already satisfied: pycparser in c:\\users\\chhal\\documents\\discord_bot\\newsbased-market-predictor\\newspredictorenv\\lib\\site-packages (from cffi>=1.12->cryptography>=2.0->scrapy) (2.21)\n",
      "Requirement already satisfied: certifi>=2017.4.17 in c:\\users\\chhal\\documents\\discord_bot\\newsbased-market-predictor\\newspredictorenv\\lib\\site-packages (from requests>=2.1.0->tldextract->scrapy) (2022.6.15)\n",
      "Requirement already satisfied: charset-normalizer<3,>=2 in c:\\users\\chhal\\documents\\discord_bot\\newsbased-market-predictor\\newspredictorenv\\lib\\site-packages (from requests>=2.1.0->tldextract->scrapy) (2.1.1)\n",
      "Requirement already satisfied: urllib3<1.27,>=1.21.1 in c:\\users\\chhal\\documents\\discord_bot\\newsbased-market-predictor\\newspredictorenv\\lib\\site-packages (from requests>=2.1.0->tldextract->scrapy) (1.26.12)\n"
     ]
    }
   ],
   "source": [
    "!pip install scrapy"
   ]
  },
  {
   "cell_type": "code",
   "execution_count": 1,
   "id": "9be45d0e",
   "metadata": {},
   "outputs": [],
   "source": [
    "import scrapy as sp\n",
    "import os\n",
    "import time\n",
    "import requests\n",
    "from bs4 import BeautifulSoup\n",
    "from datetime import date, timedelta"
   ]
  },
  {
   "cell_type": "code",
   "execution_count": 2,
   "id": "6273f2ea",
   "metadata": {},
   "outputs": [],
   "source": [
    "START_DATE = date(2020,3,3) \n",
    "END_DATE = date(2022,8,30)"
   ]
  },
  {
   "cell_type": "code",
   "execution_count": 4,
   "id": "0e1364f9",
   "metadata": {},
   "outputs": [
    {
     "ename": "NameError",
     "evalue": "name 'self' is not defined",
     "output_type": "error",
     "traceback": [
      "\u001b[1;31m---------------------------------------------------------------------------\u001b[0m",
      "\u001b[1;31mNameError\u001b[0m                                 Traceback (most recent call last)",
      "Cell \u001b[1;32mIn [4], line 1\u001b[0m\n\u001b[1;32m----> 1\u001b[0m \u001b[38;5;28;01mclass\u001b[39;00m \u001b[38;5;21;01mMoneycontrol_spider\u001b[39;00m(sp\u001b[38;5;241m.\u001b[39mSpider):\n\u001b[0;32m      2\u001b[0m     name \u001b[38;5;241m=\u001b[39m \u001b[38;5;124m'\u001b[39m\u001b[38;5;124mmoneycontrol spider\u001b[39m\u001b[38;5;124m'\u001b[39m\n\u001b[0;32m      4\u001b[0m     \u001b[38;5;28;01mdef\u001b[39;00m \u001b[38;5;21mget_start_urls\u001b[39m(\u001b[38;5;28mself\u001b[39m):\n",
      "Cell \u001b[1;32mIn [4], line 18\u001b[0m, in \u001b[0;36mMoneycontrol_spider\u001b[1;34m()\u001b[0m\n\u001b[0;32m     15\u001b[0m         end \u001b[38;5;241m+\u001b[39m\u001b[38;5;241m=\u001b[39m timedelta(\u001b[38;5;241m7\u001b[39m)\n\u001b[0;32m     16\u001b[0m     \u001b[38;5;28;01mreturn\u001b[39;00m urls\n\u001b[1;32m---> 18\u001b[0m start_urls \u001b[38;5;241m=\u001b[39m get_start_urls(\u001b[38;5;28;43mself\u001b[39;49m)\n\u001b[0;32m     20\u001b[0m \u001b[38;5;28;01mdef\u001b[39;00m \u001b[38;5;21mparse\u001b[39m(\u001b[38;5;28mself\u001b[39m,response):\n\u001b[0;32m     21\u001b[0m     \u001b[38;5;28;01mfor\u001b[39;00m a \u001b[38;5;129;01min\u001b[39;00m response\u001b[38;5;241m.\u001b[39mxpath(\u001b[38;5;124m'\u001b[39m\u001b[38;5;124m//a\u001b[39m\u001b[38;5;124m'\u001b[39m)\u001b[38;5;241m.\u001b[39mgetall():\n",
      "\u001b[1;31mNameError\u001b[0m: name 'self' is not defined"
     ]
    }
   ],
   "source": [
    "class Moneycontrol_spider(sp.Spider):\n",
    "    name = 'moneycontrol spider'\n",
    "    \n",
    "    def get_start_urls(self):\n",
    "        urls = []\n",
    "        base = 'https://www.google.com'\n",
    "        srt, end = START_DATE, START_DATE + timedelta(7)\n",
    "        while end<END_DATE:\n",
    "            query = f'/search?q=site:moneycontrol.com+after:{str(srt)}+before:{str(end)}&tbm=nws'\n",
    "\n",
    "            url = base+query\n",
    "            urls.append(url)\n",
    "\n",
    "            srt += timedelta(7)\n",
    "            end += timedelta(7)\n",
    "        return urls\n",
    "    \n",
    "    start_urls = get_start_urls(self)\n",
    "    \n",
    "    def parse(self,response):\n",
    "        for a in response.xpath('//a').getall():\n",
    "            print(a)\n",
    "        \n",
    "Moneycontrol_spider()\n",
    "\n",
    "    \n",
    "    "
   ]
  },
  {
   "cell_type": "code",
   "execution_count": null,
   "id": "844d72ea",
   "metadata": {},
   "outputs": [],
   "source": []
  }
 ],
 "metadata": {
  "kernelspec": {
   "display_name": "newsPredictorEnv",
   "language": "python",
   "name": "newspredictorenv"
  },
  "language_info": {
   "codemirror_mode": {
    "name": "ipython",
    "version": 3
   },
   "file_extension": ".py",
   "mimetype": "text/x-python",
   "name": "python",
   "nbconvert_exporter": "python",
   "pygments_lexer": "ipython3",
   "version": "3.9.5"
  }
 },
 "nbformat": 4,
 "nbformat_minor": 5
}
