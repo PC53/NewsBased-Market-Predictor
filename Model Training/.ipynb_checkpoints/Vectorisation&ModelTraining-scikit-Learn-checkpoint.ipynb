{
 "cells": [
  {
   "cell_type": "code",
   "execution_count": null,
   "id": "b99e6c52",
   "metadata": {},
   "outputs": [],
   "source": [
    "!pip install sklearn"
   ]
  },
  {
   "cell_type": "code",
   "execution_count": null,
   "id": "c0ea7ec1",
   "metadata": {},
   "outputs": [],
   "source": [
    "# tools\n",
    "import random\n",
    "import os\n",
    "import pandas"
   ]
  },
  {
   "cell_type": "code",
   "execution_count": null,
   "id": "bd628f09",
   "metadata": {},
   "outputs": [],
   "source": [
    "from pyspark.ml.classification import NaiveBayes\n",
    "from pyspark.ml.evaluation import MulticlassClassificationEvaluator\n",
    "from pyspark.ml.feature import CountVectorizer\n",
    "from pyspark.ml.feature import StopWordsRemover\n",
    "from pyspark.ml.clustering import KMeans\n",
    "from pyspark.ml.evaluation import ClusteringEvaluator"
   ]
  },
  {
   "cell_type": "markdown",
   "id": "765df6d9",
   "metadata": {},
   "source": [
    "# Initialise"
   ]
  },
  {
   "cell_type": "code",
   "execution_count": null,
   "id": "994186ca",
   "metadata": {},
   "outputs": [],
   "source": [
    "\"\"\"\n",
    "Initialize Spark session object\n",
    "\"\"\"\n",
    "spark = SparkSession \\\n",
    "    .builder \\\n",
    "    .appName(\"Python Spark Naive Bayes CountVectorizer\") \\\n",
    "    .getOrCreate()"
   ]
  },
  {
   "cell_type": "code",
   "execution_count": null,
   "id": "18ab340c",
   "metadata": {},
   "outputs": [],
   "source": [
    "data = spark.read.csv(os.path.join(os.getcwd(),\"..\",\"data/preprocessed_data.csv\"), header=True)"
   ]
  },
  {
   "cell_type": "code",
   "execution_count": null,
   "id": "da71f9bf",
   "metadata": {},
   "outputs": [],
   "source": [
    "data"
   ]
  },
  {
   "cell_type": "code",
   "execution_count": null,
   "id": "a024bb2a",
   "metadata": {},
   "outputs": [],
   "source": [
    "'''\n",
    "Content was pre-processed and stored as comma seperated String\n",
    "'''\n",
    "strList_toList = udf(lambda r: r.split(','), ArrayType(StringType()))\n",
    "function_toNumerical = udf(lambda r: int(r), IntegerType())\n",
    "\n",
    "list_content = data.withColumn('Content',strList_toList('Content')).withColumn('Change',function_toNumerical('Change5')).drop('Change5').drop('change4')\n",
    "list_content"
   ]
  },
  {
   "cell_type": "markdown",
   "id": "ef652860",
   "metadata": {},
   "source": [
    "### Vectorise the content"
   ]
  },
  {
   "cell_type": "code",
   "execution_count": null,
   "id": "c1cd4984",
   "metadata": {},
   "outputs": [],
   "source": [
    "'''\n",
    "Create Document-Term Matrix by vectorizing the filtered text.\n",
    "- returns the features column: \n",
    "(total nb of words, indices of each word in total vocab, count of each word)\n",
    "'''\n",
    "to_vectorize = list_content.select('Content', 'Change')\n",
    "cv = CountVectorizer(inputCol=\"Content\", outputCol=\"features\")\n",
    "# model_vec = cv.fit(to_vectorize)\n",
    "# result_vec = model_vec.transform(to_vectorize)\n",
    "(to_vectorize).toPandas()\n",
    "\n",
    "# selectedData = result_vec.select('Datetime', 'Content','features', 'change')"
   ]
  },
  {
   "cell_type": "code",
   "execution_count": null,
   "id": "d9136e5c",
   "metadata": {},
   "outputs": [],
   "source": []
  },
  {
   "cell_type": "code",
   "execution_count": null,
   "id": "77cbac69",
   "metadata": {},
   "outputs": [],
   "source": []
  }
 ],
 "metadata": {
  "kernelspec": {
   "display_name": "newsPredictorEnv",
   "language": "python",
   "name": "newspredictorenv"
  },
  "language_info": {
   "codemirror_mode": {
    "name": "ipython",
    "version": 3
   },
   "file_extension": ".py",
   "mimetype": "text/x-python",
   "name": "python",
   "nbconvert_exporter": "python",
   "pygments_lexer": "ipython3",
   "version": "3.9.5"
  }
 },
 "nbformat": 4,
 "nbformat_minor": 5
}
