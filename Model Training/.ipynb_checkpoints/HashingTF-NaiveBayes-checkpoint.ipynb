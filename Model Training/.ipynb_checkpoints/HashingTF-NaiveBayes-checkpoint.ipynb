{
 "cells": [
  {
   "cell_type": "code",
   "execution_count": null,
   "id": "122ed6c4",
   "metadata": {},
   "outputs": [],
   "source": [
    "!pip install pyspark"
   ]
  },
  {
   "cell_type": "code",
   "execution_count": 14,
   "id": "529cb48b",
   "metadata": {},
   "outputs": [],
   "source": [
    "from pyspark.rdd import RDD\n",
    "from pyspark.sql import Row\n",
    "from pyspark.sql import DataFrame\n",
    "from pyspark.sql import SparkSession\n",
    "from pyspark import SparkContext as sc\n",
    "from pyspark.sql import SparkSession\n",
    "from pyspark.sql import functions as F\n",
    "from pyspark.sql.functions import udf,col\n",
    "from pyspark.sql.types import ArrayType\n",
    "from pyspark.sql.types import StringType\n",
    "from pyspark.sql.types import IntegerType\n",
    "from pyspark.sql.types import FloatType\n",
    "import pyspark\n",
    "\n",
    "# tools\n",
    "import random\n",
    "import os\n",
    "import statistics\n",
    "import pandas as pd"
   ]
  },
  {
   "cell_type": "code",
   "execution_count": 15,
   "id": "b44544e3",
   "metadata": {},
   "outputs": [
    {
     "name": "stderr",
     "output_type": "stream",
     "text": [
      "java version \"11.0.16\" 2022-07-19 LTS\n",
      "Java(TM) SE Runtime Environment 18.9 (build 11.0.16+11-LTS-199)\n",
      "Java HotSpot(TM) 64-Bit Server VM 18.9 (build 11.0.16+11-LTS-199, mixed mode)\n"
     ]
    }
   ],
   "source": [
    "!java -version # should be jdk 11"
   ]
  },
  {
   "cell_type": "code",
   "execution_count": 16,
   "id": "c636fb76",
   "metadata": {},
   "outputs": [],
   "source": [
    "from pyspark.ml.classification import NaiveBayes\n",
    "from pyspark.ml.evaluation import MulticlassClassificationEvaluator\n",
    "from pyspark.ml.feature import CountVectorizer"
   ]
  },
  {
   "cell_type": "markdown",
   "id": "6cd403c9",
   "metadata": {},
   "source": [
    "# Initialise\n"
   ]
  },
  {
   "cell_type": "code",
   "execution_count": 17,
   "id": "00a7fce5",
   "metadata": {},
   "outputs": [],
   "source": [
    "\"\"\"\n",
    "Initialize Spark session object\n",
    "\"\"\"\n",
    "spark = SparkSession \\\n",
    "    .builder \\\n",
    "    .appName(\"Python Spark Naive Bayes CountVectorizer\") \\\n",
    "    .getOrCreate()"
   ]
  },
  {
   "cell_type": "code",
   "execution_count": 18,
   "id": "fd2c2f7d",
   "metadata": {},
   "outputs": [
    {
     "name": "stdout",
     "output_type": "stream",
     "text": [
      "+--------------------+--------------------+--------------------+--------------------+------+\n",
      "|            Datetime|               Title|         Description|             Content|Change|\n",
      "+--------------------+--------------------+--------------------+--------------------+------+\n",
      "|2019-01-01 20:56:...|Car sales languis...|Tight liquidity, ...|nonetight,liquidi...|  -1.2|\n",
      "|2019-01-01 18:07:...|Tata Motors domes...|The company said ...|nonethe,company,p...|  -1.2|\n",
      "|2019-01-02 20:30:...|An evening walk d...|At the close of m...|weak,global,cue,d...| -1.75|\n",
      "|2019-01-02 14:12:...|Top auto trends o...|The biggest news ...|automotive,indust...|  -1.2|\n",
      "|2019-01-04 16:18:...|No decision regar...|Economic Affairs ...|decision,recently...| -0.51|\n",
      "|2019-01-03 14:37:...|HDFC MF surpasses...|As of December-en...|hdfc,mutual,fund,...| -2.85|\n",
      "|2019-01-03 15:14:...|Axle load norms b...|Sales of medium a...|new,axle,load,nor...|  1.15|\n",
      "|2019-01-04 09:46:...|Allocate 30-40% o...|For aggressive in...|tell,select,midca...| -1.42|\n",
      "|2019-01-07 10:28:...|ONGC first gets f...|This situation ha...|capitalmindwe,big...|-19.84|\n",
      "|2019-01-07 14:55:...|Maggi fights to r...|In the latest twi...|nonemaggi,recoupe...| -7.05|\n",
      "|2019-01-07 17:26:...|10 years to Satya...|On January 7, 200...|january,byrraju,r...| -7.64|\n",
      "|2019-01-08 12:47:...|Future S Concept ...|With an all-new d...|maruti,suzuki,set...| -2.73|\n",
      "|2019-01-09 11:56:...|What to expect fr...|Features car buye...|muchloved,maruti,...| -3.09|\n",
      "|2019-01-11 09:34:...|TCS Q3 review: Ea...|We expect modest ...|moneycontrol,rese...| -8.43|\n",
      "|2019-01-10 18:37:...|Daimler’s BharatB...|Sales under the b...|nonesales,brand,b...| -3.35|\n",
      "|2019-01-11 18:12:...|Maruti Suzuki loo...|In its 35th year ...|nonein,th,year,un...| -2.47|\n",
      "|2019-01-11 15:39:...|2019 Maruti Suzuk...|An overview of on...|maruti,suzuki,hit...| -2.47|\n",
      "|2019-01-16 12:17:...|Maruti Suzuki rev...|While keeping the...|noneto,begin,maru...| -4.02|\n",
      "|2019-01-16 17:21:...|2019 Maruti Suzuk...|A brief overview ...|maruti,suzuki,off...| -3.55|\n",
      "|2019-02-05 17:42:...|Reliance Industri...|Jio's overall per...|none,nonenonenone...| -0.47|\n",
      "+--------------------+--------------------+--------------------+--------------------+------+\n",
      "only showing top 20 rows\n",
      "\n"
     ]
    }
   ],
   "source": [
    "data = spark.read.csv(os.path.join(os.getcwd(),\"..\",\"data/preprocessed_data.csv\"), header=True)\n",
    "# data = spark.read.csv(\"preprocessed_data.csv\", header=True)\n",
    "data.show(20)"
   ]
  },
  {
   "cell_type": "code",
   "execution_count": 19,
   "id": "0781da6d",
   "metadata": {},
   "outputs": [
    {
     "name": "stdout",
     "output_type": "stream",
     "text": [
      "+--------------------+--------------------+--------------------+--------------------+------+-----+\n",
      "|            Datetime|               Title|         Description|             Content|Change|label|\n",
      "+--------------------+--------------------+--------------------+--------------------+------+-----+\n",
      "|2019-01-01 20:56:...|Car sales languis...|Tight liquidity, ...|[nonetight, liqui...|  -1.2|    0|\n",
      "|2019-01-01 18:07:...|Tata Motors domes...|The company said ...|[nonethe, company...|  -1.2|    0|\n",
      "|2019-01-02 20:30:...|An evening walk d...|At the close of m...|[weak, global, cu...| -1.75|    0|\n",
      "|2019-01-02 14:12:...|Top auto trends o...|The biggest news ...|[automotive, indu...|  -1.2|    0|\n",
      "|2019-01-04 16:18:...|No decision regar...|Economic Affairs ...|[decision, recent...| -0.51|    0|\n",
      "|2019-01-03 14:37:...|HDFC MF surpasses...|As of December-en...|[hdfc, mutual, fu...| -2.85|    0|\n",
      "|2019-01-03 15:14:...|Axle load norms b...|Sales of medium a...|[new, axle, load,...|  1.15|    1|\n",
      "|2019-01-04 09:46:...|Allocate 30-40% o...|For aggressive in...|[tell, select, mi...| -1.42|    0|\n",
      "|2019-01-07 10:28:...|ONGC first gets f...|This situation ha...|[capitalmindwe, b...|-19.84|    0|\n",
      "|2019-01-07 14:55:...|Maggi fights to r...|In the latest twi...|[nonemaggi, recou...| -7.05|    0|\n",
      "|2019-01-07 17:26:...|10 years to Satya...|On January 7, 200...|[january, byrraju...| -7.64|    0|\n",
      "|2019-01-08 12:47:...|Future S Concept ...|With an all-new d...|[maruti, suzuki, ...| -2.73|    0|\n",
      "|2019-01-09 11:56:...|What to expect fr...|Features car buye...|[muchloved, marut...| -3.09|    0|\n",
      "|2019-01-11 09:34:...|TCS Q3 review: Ea...|We expect modest ...|[moneycontrol, re...| -8.43|    0|\n",
      "|2019-01-10 18:37:...|Daimler’s BharatB...|Sales under the b...|[nonesales, brand...| -3.35|    0|\n",
      "|2019-01-11 18:12:...|Maruti Suzuki loo...|In its 35th year ...|[nonein, th, year...| -2.47|    0|\n",
      "|2019-01-11 15:39:...|2019 Maruti Suzuk...|An overview of on...|[maruti, suzuki, ...| -2.47|    0|\n",
      "|2019-01-16 12:17:...|Maruti Suzuki rev...|While keeping the...|[noneto, begin, m...| -4.02|    0|\n",
      "|2019-01-16 17:21:...|2019 Maruti Suzuk...|A brief overview ...|[maruti, suzuki, ...| -3.55|    0|\n",
      "|2019-02-05 17:42:...|Reliance Industri...|Jio's overall per...|[none, nonenoneno...| -0.47|    0|\n",
      "+--------------------+--------------------+--------------------+--------------------+------+-----+\n",
      "only showing top 20 rows\n",
      "\n"
     ]
    }
   ],
   "source": [
    "'''\n",
    "Content was pre-processed and stored as comma seperated String\n",
    "'''\n",
    "def to_label(change):\n",
    "      try:\n",
    "        if change>0:\n",
    "            return 1\n",
    "        else:\n",
    "            return 0\n",
    "      except:\n",
    "        pass\n",
    "\n",
    "strList_toList = udf(lambda r: r.split(','), ArrayType(StringType()))\n",
    "func_tolabel = udf(lambda x : to_label(x) ,IntegerType())\n",
    "\n",
    "list_content = data.withColumn('Content',strList_toList('Content')).withColumn('label',col(\"Change\").cast(\"Float\")).na.drop(\"any\")\n",
    "list_content = list_content.withColumn('label',func_tolabel('label'))\n",
    "\n",
    "list_content.show(20)"
   ]
  },
  {
   "cell_type": "markdown",
   "id": "yHlU2IB14Vhb",
   "metadata": {
    "id": "yHlU2IB14Vhb"
   },
   "source": [
    "## Hashing-TF Naive Bayes"
   ]
  },
  {
   "cell_type": "code",
   "execution_count": 20,
   "id": "0cS0Uwqr3Gl9",
   "metadata": {
    "colab": {
     "base_uri": "https://localhost:8080/"
    },
    "id": "0cS0Uwqr3Gl9",
    "outputId": "94b02558-c47a-4ba9-e1ce-856e7343871b"
   },
   "outputs": [
    {
     "name": "stdout",
     "output_type": "stream",
     "text": [
      "+--------------------+--------------------+--------------------+--------------------+------+-----+--------------------+\n",
      "|            Datetime|               Title|         Description|             Content|Change|label|         rawFeatures|\n",
      "+--------------------+--------------------+--------------------+--------------------+------+-----+--------------------+\n",
      "|2019-01-01 20:56:...|Car sales languis...|Tight liquidity, ...|[nonetight, liqui...|  -1.2|    0|(50,[0,1,2,3,4,5,...|\n",
      "|2019-01-01 18:07:...|Tata Motors domes...|The company said ...|[nonethe, company...|  -1.2|    0|(50,[6,7,8,10,11,...|\n",
      "|2019-01-02 20:30:...|An evening walk d...|At the close of m...|[weak, global, cu...| -1.75|    0|(50,[0,1,2,3,4,5,...|\n",
      "|2019-01-02 14:12:...|Top auto trends o...|The biggest news ...|[automotive, indu...|  -1.2|    0|(50,[0,1,2,3,4,5,...|\n",
      "|2019-01-04 16:18:...|No decision regar...|Economic Affairs ...|[decision, recent...| -0.51|    0|(50,[0,1,2,3,4,5,...|\n",
      "|2019-01-03 14:37:...|HDFC MF surpasses...|As of December-en...|[hdfc, mutual, fu...| -2.85|    0|(50,[0,1,2,3,4,5,...|\n",
      "|2019-01-03 15:14:...|Axle load norms b...|Sales of medium a...|[new, axle, load,...|  1.15|    1|(50,[0,1,2,3,4,6,...|\n",
      "|2019-01-04 09:46:...|Allocate 30-40% o...|For aggressive in...|[tell, select, mi...| -1.42|    0|(50,[0,1,2,3,4,5,...|\n",
      "|2019-01-07 10:28:...|ONGC first gets f...|This situation ha...|[capitalmindwe, b...|-19.84|    0|(50,[0,1,2,3,4,5,...|\n",
      "|2019-01-07 14:55:...|Maggi fights to r...|In the latest twi...|[nonemaggi, recou...| -7.05|    0|(50,[0,1,2,3,4,5,...|\n",
      "|2019-01-07 17:26:...|10 years to Satya...|On January 7, 200...|[january, byrraju...| -7.64|    0|(50,[0,1,2,3,4,5,...|\n",
      "|2019-01-08 12:47:...|Future S Concept ...|With an all-new d...|[maruti, suzuki, ...| -2.73|    0|(50,[0,1,2,3,4,5,...|\n",
      "|2019-01-09 11:56:...|What to expect fr...|Features car buye...|[muchloved, marut...| -3.09|    0|(50,[0,1,2,3,4,5,...|\n",
      "|2019-01-11 09:34:...|TCS Q3 review: Ea...|We expect modest ...|[moneycontrol, re...| -8.43|    0|(50,[0,1,2,3,4,5,...|\n",
      "|2019-01-10 18:37:...|Daimler’s BharatB...|Sales under the b...|[nonesales, brand...| -3.35|    0|(50,[0,2,3,5,6,7,...|\n",
      "|2019-01-11 18:12:...|Maruti Suzuki loo...|In its 35th year ...|[nonein, th, year...| -2.47|    0|(50,[1,2,3,4,5,6,...|\n",
      "|2019-01-11 15:39:...|2019 Maruti Suzuk...|An overview of on...|[maruti, suzuki, ...| -2.47|    0|(50,[0,1,2,6,7,8,...|\n",
      "|2019-01-16 12:17:...|Maruti Suzuki rev...|While keeping the...|[noneto, begin, m...| -4.02|    0|(50,[0,1,2,4,6,7,...|\n",
      "|2019-01-16 17:21:...|2019 Maruti Suzuk...|A brief overview ...|[maruti, suzuki, ...| -3.55|    0|(50,[1,2,5,6,7,8,...|\n",
      "|2019-02-05 17:42:...|Reliance Industri...|Jio's overall per...|[none, nonenoneno...| -0.47|    0|(50,[0,1,2,3,4,5,...|\n",
      "+--------------------+--------------------+--------------------+--------------------+------+-----+--------------------+\n",
      "only showing top 20 rows\n",
      "\n"
     ]
    }
   ],
   "source": [
    "'''\n",
    "HashingTF: Create Document-Term Matrix\n",
    "'''\n",
    "from pyspark.ml.feature import HashingTF, IDF, Tokenizer\n",
    "\n",
    "hashingTF = HashingTF(inputCol=\"Content\", outputCol=\"rawFeatures\", numFeatures=50)\n",
    "featurizedData = hashingTF.transform(list_content)\n",
    "\n",
    "featurizedData.show()\n",
    "\n",
    "'''\n",
    "TF-IDF, followed from HashingTF.\n",
    "'''\n",
    "idf = IDF(inputCol=\"rawFeatures\", outputCol=\"features\")\n",
    "idfModel = idf.fit(featurizedData)\n",
    "rescaledData = idfModel.transform(featurizedData)"
   ]
  },
  {
   "cell_type": "code",
   "execution_count": 21,
   "id": "BKF0v9F64-oq",
   "metadata": {
    "id": "BKF0v9F64-oq"
   },
   "outputs": [
    {
     "name": "stdout",
     "output_type": "stream",
     "text": [
      "+--------------------+--------------------+-----+\n",
      "|            Datetime|            features|label|\n",
      "+--------------------+--------------------+-----+\n",
      "|2019-01-01 20:56:...|(50,[0,1,2,3,4,5,...|    0|\n",
      "|2019-01-01 18:07:...|(50,[6,7,8,10,11,...|    0|\n",
      "|2019-01-02 20:30:...|(50,[0,1,2,3,4,5,...|    0|\n",
      "|2019-01-02 14:12:...|(50,[0,1,2,3,4,5,...|    0|\n",
      "|2019-01-04 16:18:...|(50,[0,1,2,3,4,5,...|    0|\n",
      "|2019-01-03 14:37:...|(50,[0,1,2,3,4,5,...|    0|\n",
      "|2019-01-03 15:14:...|(50,[0,1,2,3,4,6,...|    1|\n",
      "|2019-01-04 09:46:...|(50,[0,1,2,3,4,5,...|    0|\n",
      "|2019-01-07 10:28:...|(50,[0,1,2,3,4,5,...|    0|\n",
      "|2019-01-07 14:55:...|(50,[0,1,2,3,4,5,...|    0|\n",
      "|2019-01-07 17:26:...|(50,[0,1,2,3,4,5,...|    0|\n",
      "|2019-01-08 12:47:...|(50,[0,1,2,3,4,5,...|    0|\n",
      "|2019-01-09 11:56:...|(50,[0,1,2,3,4,5,...|    0|\n",
      "|2019-01-11 09:34:...|(50,[0,1,2,3,4,5,...|    0|\n",
      "|2019-01-10 18:37:...|(50,[0,2,3,5,6,7,...|    0|\n",
      "|2019-01-11 18:12:...|(50,[1,2,3,4,5,6,...|    0|\n",
      "|2019-01-11 15:39:...|(50,[0,1,2,6,7,8,...|    0|\n",
      "|2019-01-16 12:17:...|(50,[0,1,2,4,6,7,...|    0|\n",
      "|2019-01-16 17:21:...|(50,[1,2,5,6,7,8,...|    0|\n",
      "|2019-02-05 17:42:...|(50,[0,1,2,3,4,5,...|    0|\n",
      "+--------------------+--------------------+-----+\n",
      "only showing top 20 rows\n",
      "\n"
     ]
    }
   ],
   "source": [
    "hashing_selected_data = rescaledData.select('Datetime','features', 'label')\n",
    "hashing_selected_data.show()"
   ]
  },
  {
   "cell_type": "code",
   "execution_count": 22,
   "id": "NfYT6RlL6WO_",
   "metadata": {
    "id": "NfYT6RlL6WO_"
   },
   "outputs": [],
   "source": [
    "'''\n",
    "Naive-Bayes following from TF-IDF\n",
    "'''\n",
    "def NAIVEBAYES_HASH(smooth=0, model_type=0):\n",
    "  # separating training/test sets\n",
    "  training_zero, test_zero = hashing_selected_data.where(hashing_selected_data.label == 0).randomSplit([0.7, 0.3])\n",
    "  training_one, test_one = hashing_selected_data.where(hashing_selected_data.label == 1).randomSplit([0.7, 0.3])\n",
    "\n",
    "  training = training_zero.union(training_one)\n",
    "  test = test_zero.union(test_one)\n",
    "\n",
    "  nb = NaiveBayes(smoothing=smooth, modelType=model_type)\n",
    "  model_NB = nb.fit(training)\n",
    "\n",
    "  # display on test set: appends a prediction column\n",
    "  predictions = model_NB.transform(test)\n",
    "\n",
    "  # compute accuracy of on test set: compares labelCol and predictionCol\n",
    "  evaluator = MulticlassClassificationEvaluator(labelCol=\"label\", predictionCol=\"prediction\", metricName=\"accuracy\")\n",
    "  accuracy = evaluator.evaluate(predictions)\n",
    "\n",
    "  return (accuracy,model_NB)"
   ]
  },
  {
   "cell_type": "code",
   "execution_count": 23,
   "id": "F-YBx2_T6ur5",
   "metadata": {
    "colab": {
     "base_uri": "https://localhost:8080/",
     "height": 1000
    },
    "id": "F-YBx2_T6ur5",
    "outputId": "0c465c5f-cf5e-4c2a-be4b-1e9cc2bc6517"
   },
   "outputs": [
    {
     "name": "stdout",
     "output_type": "stream",
     "text": [
      "=> Mean: 0.5460549501671508 - Smoothing: 0.664889788784094 - Model: complement\n",
      "=> Mean: 0.5503600726443918 - Smoothing: 0.5943484655611615 - Model: complement\n",
      "=> Mean: 0.5523826117511923 - Smoothing: 0.6279686359705199 - Model: complement\n",
      "=> Mean: 0.5464857533034284 - Smoothing: 0.5199353280214871 - Model: complement\n",
      "=> Mean: 0.5396050484937208 - Smoothing: 0.6100087451276399 - Model: complement\n",
      "=> Mean: 0.8824020760925061 - Smoothing: 0.7599031751038198 - Model: multinomial\n",
      "=> Mean: 0.8535205803914235 - Smoothing: 0.25683969456403133 - Model: multinomial\n",
      "=> Mean: 0.8764646763204045 - Smoothing: 0.5635865136957934 - Model: multinomial\n",
      "=> Mean: 0.856717305577901 - Smoothing: 0.38104190566783475 - Model: multinomial\n",
      "=> Mean: 0.8662366199835855 - Smoothing: 0.45142852671420913 - Model: multinomial\n"
     ]
    }
   ],
   "source": [
    "import statistics\n",
    "\n",
    "extract_method = \"HashingTF\"\n",
    "iter_each = 10\n",
    "iter_total = 5\n",
    "m_types = [\"complement\", \"multinomial\"]\n",
    "means = []\n",
    "\n",
    "for model_type in m_types:\n",
    "  for k in range(iter_total):\n",
    "    accuracies = []\n",
    "    smoothing = random.uniform(0.01, 0.8)\n",
    "    for i in range(iter_each):\n",
    "      accuracies.append(NAIVEBAYES_HASH(smoothing, model_type)[0])\n",
    "    mean = statistics.mean(accuracies)\n",
    "    print(\"=> Mean:\", mean, \"- Smoothing:\", smoothing, \"- Model:\", model_type)\n",
    "    means.append((mean, smoothing, model_type, extract_method))"
   ]
  },
  {
   "cell_type": "code",
   "execution_count": 24,
   "id": "cs0LrzRK66rJ",
   "metadata": {
    "id": "cs0LrzRK66rJ"
   },
   "outputs": [],
   "source": [
    "acc_df = pd.DataFrame(means, columns=['mean', 'smoothing', 'model_type', 'extract_method'])\n",
    "acc_df.to_csv(\"means_hashing.csv\")"
   ]
  },
  {
   "cell_type": "code",
   "execution_count": 25,
   "id": "KugiLWwu7vTD",
   "metadata": {
    "colab": {
     "base_uri": "https://localhost:8080/",
     "height": 17
    },
    "id": "KugiLWwu7vTD",
    "outputId": "17702656-cf04-4e65-bba0-d7ea1c9751b7"
   },
   "outputs": [],
   "source": [
    "# from google.colab import files\n",
    "# files.download('means_hash.csv')"
   ]
  },
  {
   "cell_type": "markdown",
   "id": "7f3657cb",
   "metadata": {},
   "source": [
    "## saving the model"
   ]
  },
  {
   "cell_type": "code",
   "execution_count": 26,
   "id": "b3720601",
   "metadata": {},
   "outputs": [],
   "source": [
    "model_path = os.path.join(os.path.dirname(os.getcwd()),'saved_models/htfnb_model')\n",
    "\n",
    "## saving the highest accuracy model \n",
    "max_acc = acc_df.loc[acc_df['mean'].idxmax()]\n",
    "smoothing = max_acc.smoothing \n",
    "model_type = max_acc.model_type\n",
    "\n",
    "(_, final_model) = NAIVEBAYES_HASH(smooth=smoothing, model_type=model_type) "
   ]
  },
  {
   "cell_type": "code",
   "execution_count": 28,
   "id": "ab452c0a",
   "metadata": {},
   "outputs": [],
   "source": [
    "final_model.write().overwrite().save(model_path)"
   ]
  },
  {
   "cell_type": "code",
   "execution_count": null,
   "id": "be1b8ad8",
   "metadata": {},
   "outputs": [],
   "source": []
  }
 ],
 "metadata": {
  "kernelspec": {
   "display_name": "newsPredictorEnv",
   "language": "python",
   "name": "newspredictorenv"
  },
  "language_info": {
   "codemirror_mode": {
    "name": "ipython",
    "version": 3
   },
   "file_extension": ".py",
   "mimetype": "text/x-python",
   "name": "python",
   "nbconvert_exporter": "python",
   "pygments_lexer": "ipython3",
   "version": "3.9.5"
  },
  "vscode": {
   "interpreter": {
    "hash": "90110dee13b7165a3ba94ccfe05d99dc296f1c35d1ae63f925fe3f4ad6d32024"
   }
  }
 },
 "nbformat": 4,
 "nbformat_minor": 5
}
