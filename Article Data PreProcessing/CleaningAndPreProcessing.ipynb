{
 "cells": [
  {
   "cell_type": "code",
   "execution_count": null,
   "id": "07ad14e1",
   "metadata": {
    "colab": {
     "base_uri": "https://localhost:8080/"
    },
    "id": "07ad14e1",
    "outputId": "2ace9c70-b5da-4826-9dc9-07ad345c6ea3"
   },
   "outputs": [],
   "source": [
    "!pip install pandas-market-calendars\n",
    "!pip install yfinance\n",
    "!pip install pyspark\n",
    "!pip install spark-nlp==4.1.0"
   ]
  },
  {
   "cell_type": "code",
   "execution_count": 1,
   "id": "63847714",
   "metadata": {
    "id": "63847714"
   },
   "outputs": [],
   "source": [
    "# utilities\n",
    "import re\n",
    "import csv\n",
    "import numpy as np\n",
    "import pandas as pd\n",
    "import string\n",
    "import sqlite3\n",
    "import requests\n",
    "from datetime import datetime, time, date, timedelta\n",
    "\n",
    "# market Data management\n",
    "import yfinance as yf\n",
    "import holidays\n",
    "import pandas_market_calendars as mcal\n",
    "\n",
    "# Processing\n",
    "import nltk\n",
    "from nltk.corpus import stopwords\n",
    "from nltk.stem import WordNetLemmatizer"
   ]
  },
  {
   "cell_type": "markdown",
   "id": "8de8867d",
   "metadata": {
    "id": "8de8867d"
   },
   "source": [
    "### Get Stock Info"
   ]
  },
  {
   "cell_type": "code",
   "execution_count": 2,
   "id": "159f2066",
   "metadata": {
    "id": "159f2066"
   },
   "outputs": [],
   "source": [
    "SCREENER = { \n",
    "    \"india\" : \"India\"\n",
    "}\n",
    "\n",
    "stocks_list = []\n",
    "\n",
    "for types in [\"\", \"\\\"futures\\\"\"]:\n",
    "    for x, _ in SCREENER.items():\n",
    "#         print(f\"Loading screener: {x}\")\n",
    "        r = requests.post(f\"https://scanner.tradingview.com/{x}/scan\",\n",
    "                          data=f'{{\"symbols\":{{\"tickers\":[],\"query\":{{\"types\":[{types}]}}}},\"columns\":[\"description\"]}}')\n",
    "        for res in r.json()[\"data\"]:\n",
    "            name = res['d'][0]\n",
    "            exchange, symbol = res[\"s\"].split(\":\")\n",
    "            desc = res[\"d\"][0]\n",
    "            stocks_list.append({'name':name,'exchange': exchange, 'symbol':symbol})\n",
    "   \n",
    "stocks_df = pd.DataFrame(stocks_list)\n",
    "stocks_df = stocks_df.loc[stocks_df['exchange'] == 'NSE']"
   ]
  },
  {
   "cell_type": "code",
   "execution_count": 3,
   "id": "8f240d01",
   "metadata": {
    "id": "8f240d01"
   },
   "outputs": [],
   "source": [
    " ## content will be turned into lower case before searching\n",
    "stock_info = {\n",
    "    'tata motors' : 'TATAMOTORS.NS', \n",
    "    'reliance' : 'RELIANCE.NS',\n",
    "    'hdfc bank': 'HDFCBANK.NS'\n",
    "}"
   ]
  },
  {
   "cell_type": "markdown",
   "id": "63bdb856",
   "metadata": {
    "id": "63bdb856"
   },
   "source": [
    "### Load Articles "
   ]
  },
  {
   "cell_type": "code",
   "execution_count": 42,
   "id": "1e2956dd",
   "metadata": {
    "id": "1e2956dd"
   },
   "outputs": [],
   "source": [
    "ARTICLES_UPDATED = True"
   ]
  },
  {
   "cell_type": "code",
   "execution_count": 46,
   "id": "4da1603a",
   "metadata": {
    "id": "4da1603a"
   },
   "outputs": [],
   "source": [
    "if not ARTICLES_UPDATED:\n",
    "    df = pd.read_csv('article_data.csv')\n",
    "    article_data = pd.DataFrame()\n",
    "    \n",
    "    for i in range(0,len(df),5):\n",
    "        row = {'Datetime' :[ df.iloc[i+1,1]],\n",
    "               'Title' : [df.iloc[i,1]],\n",
    "               'Description' : [df.iloc[i+2,1]],\n",
    "               'Content' : [df.iloc[i+3,1]]}\n",
    "        df_row = pd.DataFrame(row)\n",
    "\n",
    "        article_data = pd.concat([article_data,df_row], ignore_index = True)\n",
    "    \n",
    "    article_data.to_csv('updated_data.csv',index=False)"
   ]
  },
  {
   "cell_type": "code",
   "execution_count": 54,
   "id": "0c53420f",
   "metadata": {
    "id": "0c53420f"
   },
   "outputs": [],
   "source": [
    "df_main = pd.read_csv('updated_data.csv')\n",
    "\n",
    "# change content to lower case \n",
    "df_main['Content'] = df_main['Content'].astype(str).str.lower()"
   ]
  },
  {
   "cell_type": "code",
   "execution_count": 55,
   "id": "b83173e5",
   "metadata": {
    "id": "b83173e5"
   },
   "outputs": [],
   "source": [
    "def find_stock_in_content(content):\n",
    "  content = str(content)\n",
    "  for stock in stock_info.keys():\n",
    "      if stock in content:\n",
    "          return stock_info[stock]"
   ]
  },
  {
   "cell_type": "markdown",
   "id": "56426c7d",
   "metadata": {
    "id": "56426c7d"
   },
   "source": [
    "### Get stock movement after news"
   ]
  },
  {
   "cell_type": "code",
   "execution_count": 56,
   "id": "a4ad1e3a",
   "metadata": {
    "id": "a4ad1e3a"
   },
   "outputs": [],
   "source": [
    "bse = mcal.get_calendar('BSE')\n",
    "holidays = bse.holidays().holidays\n",
    "\n",
    "def next_trading_date(date):\n",
    "    date += timedelta(1)\n",
    "    while (date in holidays) or (date.isoweekday() > 5):\n",
    "        date += timedelta(1)\n",
    "    return date"
   ]
  },
  {
   "cell_type": "code",
   "execution_count": 57,
   "id": "ec9fe3b1",
   "metadata": {
    "id": "ec9fe3b1"
   },
   "outputs": [],
   "source": [
    "def get_change(ticker,dt):\n",
    "    \n",
    "    srt_date = dt.date()\n",
    "    start_time = dt.time()\n",
    "    \n",
    "    # if after market\n",
    "    if(start_time > time(15,0,0)):\n",
    "        srt_date = next_trading_date(srt_date)\n",
    "        start_time = time(9,30,0)\n",
    "    \n",
    "    # before market open\n",
    "    elif(start_time < time(9,30,0)):\n",
    "        srt_date = next_trading_date(srt_date - timedelta(1))\n",
    "        start_time = time(9,30,0)\n",
    "    \n",
    "    # during market hours and market closed \n",
    "    elif(srt_date != next_trading_date(srt_date - timedelta(1))):\n",
    "        start_date = next_trading_date(srt_date)\n",
    "        start_time = time(9,30,0)\n",
    "        \n",
    "#     print(srt_date, start_time)\n",
    "    data = yf.download(tickers=ticker, start=srt_date,end=srt_date+timedelta(1),start_time=start_time,period='1d')\n",
    "    \n",
    "    if data.empty:\n",
    "        return np.nan\n",
    "    return ((data['Adj Close'][0] - data['Open'][0]) / data['Open'][0]) * 100"
   ]
  },
  {
   "cell_type": "code",
   "execution_count": 61,
   "id": "9066121c",
   "metadata": {
    "id": "9066121c"
   },
   "outputs": [],
   "source": [
    "# Add change percentage of stock after news\n",
    "CHANGE_CSV = True\n",
    "\n",
    "if not CHANGE_CSV:\n",
    "  change = []\n",
    "  for i in range (len(df_main)):\n",
    "      row = df_main.iloc[i,:]\n",
    "      dt = datetime.strptime(row['Datetime'], '%Y-%m-%d %H:%M:%S%z')\n",
    "      content = row['Content']\n",
    "      \n",
    "      ticker = find_stock_in_content(content)\n",
    "      if ticker != None:\n",
    "          change.append(get_change(ticker,dt))\n",
    "      else :\n",
    "          change.append(np.nan)\n",
    "\n",
    "  df_main['Change'] = change\n",
    "  df_main.to_csv('change.csv',index=False)\n",
    "  "
   ]
  },
  {
   "cell_type": "markdown",
   "id": "S0krsMKpisgJ",
   "metadata": {
    "id": "S0krsMKpisgJ"
   },
   "source": [
    "Processing steps -\n",
    "*   cleaning\n",
    "*   tokenization\n",
    "*   stop word removal \n",
    "*   lemmetization\n",
    "*   stemming"
   ]
  },
  {
   "cell_type": "code",
   "execution_count": 63,
   "id": "PLJyVg2hkWj-",
   "metadata": {
    "id": "PLJyVg2hkWj-"
   },
   "outputs": [],
   "source": [
    "df_main = pd.read_csv('change.csv')"
   ]
  },
  {
   "cell_type": "markdown",
   "id": "2a8lGk-1jiex",
   "metadata": {
    "id": "2a8lGk-1jiex"
   },
   "source": [
    "### 1. Cleaning"
   ]
  },
  {
   "cell_type": "code",
   "execution_count": 64,
   "id": "d0e7fc22",
   "metadata": {
    "id": "d0e7fc22"
   },
   "outputs": [],
   "source": [
    "def clean_content(content):\n",
    "    content = str(content)\n",
    "    \n",
    "    # remove all the punctuations\n",
    "    content = re.sub(r'[^\\w\\s]', '', content)\n",
    "    \n",
    "    # remove all numbers\n",
    "    content = content.translate(str.maketrans('','',string.digits))\n",
    "    \n",
    "    # remove double spacing\n",
    "    content = re.sub(' +', ' ', content)\n",
    "    \n",
    "    return content"
   ]
  },
  {
   "cell_type": "code",
   "execution_count": 65,
   "id": "2cdd0573",
   "metadata": {
    "id": "2cdd0573"
   },
   "outputs": [],
   "source": [
    "# Clean contents\n",
    "df_main['Content'] = df_main['Content'].map((lambda c: clean_content(c)),na_action=None)"
   ]
  },
  {
   "cell_type": "markdown",
   "id": "YScPN6R1jqCl",
   "metadata": {
    "id": "YScPN6R1jqCl"
   },
   "source": [
    "### 2.Tokenization"
   ]
  },
  {
   "cell_type": "code",
   "execution_count": 66,
   "id": "A3Ly0HKzjogA",
   "metadata": {
    "colab": {
     "base_uri": "https://localhost:8080/"
    },
    "id": "A3Ly0HKzjogA",
    "outputId": "29c0d2af-1414-4d9c-9a10-14d8da37a753"
   },
   "outputs": [
    {
     "name": "stderr",
     "output_type": "stream",
     "text": [
      "[nltk_data] Downloading package punkt to\n",
      "[nltk_data]     C:\\Users\\chhal\\AppData\\Roaming\\nltk_data...\n",
      "[nltk_data]   Package punkt is already up-to-date!\n",
      "[nltk_data] Downloading package wordnet to\n",
      "[nltk_data]     C:\\Users\\chhal\\AppData\\Roaming\\nltk_data...\n",
      "[nltk_data]   Package wordnet is already up-to-date!\n"
     ]
    },
    {
     "data": {
      "text/plain": [
       "True"
      ]
     },
     "execution_count": 66,
     "metadata": {},
     "output_type": "execute_result"
    }
   ],
   "source": [
    "nltk.download('punkt')\n",
    "nltk.download('wordnet')"
   ]
  },
  {
   "cell_type": "code",
   "execution_count": 67,
   "id": "uZQsS12UjoqM",
   "metadata": {
    "id": "uZQsS12UjoqM"
   },
   "outputs": [],
   "source": [
    "df_main['Content'] = df_main['Content'].map((lambda c: nltk.word_tokenize(c)),na_action=None)"
   ]
  },
  {
   "cell_type": "markdown",
   "id": "ZwK_X0iSmN15",
   "metadata": {
    "id": "ZwK_X0iSmN15"
   },
   "source": [
    "### 3. Stop word removal"
   ]
  },
  {
   "cell_type": "code",
   "execution_count": 68,
   "id": "5AWpA5LWjovX",
   "metadata": {
    "colab": {
     "base_uri": "https://localhost:8080/"
    },
    "id": "5AWpA5LWjovX",
    "outputId": "3ae99f9d-3efa-4dd4-d54e-91e9ae81221a"
   },
   "outputs": [
    {
     "name": "stderr",
     "output_type": "stream",
     "text": [
      "[nltk_data] Downloading package stopwords to\n",
      "[nltk_data]     C:\\Users\\chhal\\AppData\\Roaming\\nltk_data...\n",
      "[nltk_data]   Package stopwords is already up-to-date!\n"
     ]
    }
   ],
   "source": [
    "nltk.download('stopwords')\n",
    "stop_words = stopwords.words('english')\n",
    "\n",
    "def remove_stop_words(content):\n",
    "      return [x for x in content if x not in stop_words]"
   ]
  },
  {
   "cell_type": "code",
   "execution_count": 69,
   "id": "d3128d53",
   "metadata": {},
   "outputs": [],
   "source": [
    "df_main['Content'] = df_main['Content'].map((lambda c: remove_stop_words(c)),na_action=None)"
   ]
  },
  {
   "cell_type": "markdown",
   "id": "bb3f003a",
   "metadata": {
    "id": "bb3f003a"
   },
   "source": [
    "### 4. Lemmatization"
   ]
  },
  {
   "cell_type": "code",
   "execution_count": 70,
   "id": "3332d825",
   "metadata": {
    "id": "3332d825"
   },
   "outputs": [
    {
     "name": "stderr",
     "output_type": "stream",
     "text": [
      "[nltk_data] Downloading package omw-1.4 to\n",
      "[nltk_data]     C:\\Users\\chhal\\AppData\\Roaming\\nltk_data...\n",
      "[nltk_data]   Package omw-1.4 is already up-to-date!\n"
     ]
    }
   ],
   "source": [
    "nltk.download('omw-1.4')\n",
    "def lemmatize(content):\n",
    "    lemmatizer = WordNetLemmatizer()\n",
    "    return [lemmatizer.lemmatize(word) for word in content]"
   ]
  },
  {
   "cell_type": "code",
   "execution_count": 71,
   "id": "WUtUfAGem7c9",
   "metadata": {
    "id": "WUtUfAGem7c9"
   },
   "outputs": [],
   "source": [
    "df_main['Content'] = df_main['Content'].map((lambda c: lemmatize(c)),na_action=None)"
   ]
  },
  {
   "cell_type": "code",
   "execution_count": 72,
   "id": "e06341fe",
   "metadata": {},
   "outputs": [],
   "source": [
    "## convert lemmaatised list into comma seperated string\n",
    "def list_to_string(ls):\n",
    "    string = ''\n",
    "    for word in ls:\n",
    "        string += word + ','\n",
    "    return string.rstrip(',')\n",
    "\n",
    "df_main['Content'] = df_main['Content'].map((lambda c: list_to_string(c)),na_action=None)"
   ]
  },
  {
   "cell_type": "code",
   "execution_count": 75,
   "id": "f3292f44",
   "metadata": {
    "scrolled": false
   },
   "outputs": [
    {
     "data": {
      "text/html": [
       "<div>\n",
       "<style scoped>\n",
       "    .dataframe tbody tr th:only-of-type {\n",
       "        vertical-align: middle;\n",
       "    }\n",
       "\n",
       "    .dataframe tbody tr th {\n",
       "        vertical-align: top;\n",
       "    }\n",
       "\n",
       "    .dataframe thead th {\n",
       "        text-align: right;\n",
       "    }\n",
       "</style>\n",
       "<table border=\"1\" class=\"dataframe\">\n",
       "  <thead>\n",
       "    <tr style=\"text-align: right;\">\n",
       "      <th></th>\n",
       "      <th>Datetime</th>\n",
       "      <th>Title</th>\n",
       "      <th>Description</th>\n",
       "      <th>Content</th>\n",
       "      <th>change</th>\n",
       "      <th>Change</th>\n",
       "    </tr>\n",
       "  </thead>\n",
       "  <tbody>\n",
       "    <tr>\n",
       "      <th>0</th>\n",
       "      <td>2019-01-01 20:56:00+00:00</td>\n",
       "      <td>Car sales languish as record discounts fail to...</td>\n",
       "      <td>Tight liquidity, increased lending rates, poor...</td>\n",
       "      <td>nonetight,liquidity,increased,lending,rate,poo...</td>\n",
       "      <td>-1.201643</td>\n",
       "      <td>-1.201643</td>\n",
       "    </tr>\n",
       "    <tr>\n",
       "      <th>1</th>\n",
       "      <td>2019-01-01 18:07:00+00:00</td>\n",
       "      <td>Tata Motors domestic sales fall 8% to 50,440 u...</td>\n",
       "      <td>The company said its commercial vehicle sales ...</td>\n",
       "      <td>nonethe,company,passenger,vehicle,sale,domesti...</td>\n",
       "      <td>-1.201643</td>\n",
       "      <td>-1.201643</td>\n",
       "    </tr>\n",
       "    <tr>\n",
       "      <th>2</th>\n",
       "      <td>2019-01-02 09:21:00+00:00</td>\n",
       "      <td>Mutual fund performance review: The best and w...</td>\n",
       "      <td>The IT sector has been riding on good earnings...</td>\n",
       "      <td>scheme,investing,technology,fund,saviour,inves...</td>\n",
       "      <td>NaN</td>\n",
       "      <td>NaN</td>\n",
       "    </tr>\n",
       "    <tr>\n",
       "      <th>3</th>\n",
       "      <td>2019-01-01 16:19:00+00:00</td>\n",
       "      <td>Congress president Rahul Gandhi to visit Ameth...</td>\n",
       "      <td>District Congress president Yogendra Mishra sa...</td>\n",
       "      <td>congress,president,rahul,gandhi,twoday,tour,pa...</td>\n",
       "      <td>NaN</td>\n",
       "      <td>NaN</td>\n",
       "    </tr>\n",
       "    <tr>\n",
       "      <th>4</th>\n",
       "      <td>2019-01-02 11:03:00+00:00</td>\n",
       "      <td>Gone in 6 missed calls: Mumbai businessman che...</td>\n",
       "      <td>The money was reportedly transferred to 14 acc...</td>\n",
       "      <td>nonethe,victim,v,shah,received,six,missed,call...</td>\n",
       "      <td>NaN</td>\n",
       "      <td>NaN</td>\n",
       "    </tr>\n",
       "  </tbody>\n",
       "</table>\n",
       "</div>"
      ],
      "text/plain": [
       "                    Datetime  \\\n",
       "0  2019-01-01 20:56:00+00:00   \n",
       "1  2019-01-01 18:07:00+00:00   \n",
       "2  2019-01-02 09:21:00+00:00   \n",
       "3  2019-01-01 16:19:00+00:00   \n",
       "4  2019-01-02 11:03:00+00:00   \n",
       "\n",
       "                                               Title  \\\n",
       "0  Car sales languish as record discounts fail to...   \n",
       "1  Tata Motors domestic sales fall 8% to 50,440 u...   \n",
       "2  Mutual fund performance review: The best and w...   \n",
       "3  Congress president Rahul Gandhi to visit Ameth...   \n",
       "4  Gone in 6 missed calls: Mumbai businessman che...   \n",
       "\n",
       "                                         Description  \\\n",
       "0  Tight liquidity, increased lending rates, poor...   \n",
       "1  The company said its commercial vehicle sales ...   \n",
       "2  The IT sector has been riding on good earnings...   \n",
       "3  District Congress president Yogendra Mishra sa...   \n",
       "4  The money was reportedly transferred to 14 acc...   \n",
       "\n",
       "                                             Content    change    Change  \n",
       "0  nonetight,liquidity,increased,lending,rate,poo... -1.201643 -1.201643  \n",
       "1  nonethe,company,passenger,vehicle,sale,domesti... -1.201643 -1.201643  \n",
       "2  scheme,investing,technology,fund,saviour,inves...       NaN       NaN  \n",
       "3  congress,president,rahul,gandhi,twoday,tour,pa...       NaN       NaN  \n",
       "4  nonethe,victim,v,shah,received,six,missed,call...       NaN       NaN  "
      ]
     },
     "execution_count": 75,
     "metadata": {},
     "output_type": "execute_result"
    }
   ],
   "source": [
    "df_main.head()"
   ]
  },
  {
   "cell_type": "code",
   "execution_count": 76,
   "id": "51719482",
   "metadata": {},
   "outputs": [],
   "source": [
    "df_main.to_csv('processed.csv',index=False)"
   ]
  },
  {
   "cell_type": "code",
   "execution_count": null,
   "id": "cd196cf7",
   "metadata": {},
   "outputs": [],
   "source": []
  }
 ],
 "metadata": {
  "colab": {
   "collapsed_sections": [],
   "provenance": []
  },
  "kernelspec": {
   "display_name": "Python 3",
   "language": "python",
   "name": "python3"
  },
  "language_info": {
   "codemirror_mode": {
    "name": "ipython",
    "version": 3
   },
   "file_extension": ".py",
   "mimetype": "text/x-python",
   "name": "python",
   "nbconvert_exporter": "python",
   "pygments_lexer": "ipython3",
   "version": "3.9.12"
  }
 },
 "nbformat": 4,
 "nbformat_minor": 5
}
