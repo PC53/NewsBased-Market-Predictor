{
 "cells": [
  {
   "cell_type": "code",
   "execution_count": 1,
   "id": "07ad14e1",
   "metadata": {
    "colab": {
     "base_uri": "https://localhost:8080/"
    },
    "id": "07ad14e1",
    "outputId": "2ace9c70-b5da-4826-9dc9-07ad345c6ea3"
   },
   "outputs": [
    {
     "name": "stdout",
     "output_type": "stream",
     "text": [
      "Requirement already satisfied: pandas-market-calendars in c:\\users\\chhal\\documents\\discord_bot\\newsbased-market-predictor\\newspredictorenv\\lib\\site-packages (4.0)\n",
      "Requirement already satisfied: pytz in c:\\users\\chhal\\documents\\discord_bot\\newsbased-market-predictor\\newspredictorenv\\lib\\site-packages (from pandas-market-calendars) (2022.2.1)\n",
      "Requirement already satisfied: exchange-calendars>=3.3 in c:\\users\\chhal\\documents\\discord_bot\\newsbased-market-predictor\\newspredictorenv\\lib\\site-packages (from pandas-market-calendars) (4.2)\n",
      "Requirement already satisfied: pandas>=1.1 in c:\\users\\chhal\\documents\\discord_bot\\newsbased-market-predictor\\newspredictorenv\\lib\\site-packages (from pandas-market-calendars) (1.4.4)\n",
      "Requirement already satisfied: python-dateutil in c:\\users\\chhal\\documents\\discord_bot\\newsbased-market-predictor\\newspredictorenv\\lib\\site-packages (from pandas-market-calendars) (2.8.2)\n",
      "Requirement already satisfied: pyluach in c:\\users\\chhal\\documents\\discord_bot\\newsbased-market-predictor\\newspredictorenv\\lib\\site-packages (from exchange-calendars>=3.3->pandas-market-calendars) (2.0.1)\n",
      "Requirement already satisfied: toolz in c:\\users\\chhal\\documents\\discord_bot\\newsbased-market-predictor\\newspredictorenv\\lib\\site-packages (from exchange-calendars>=3.3->pandas-market-calendars) (0.12.0)\n",
      "Requirement already satisfied: korean-lunar-calendar in c:\\users\\chhal\\documents\\discord_bot\\newsbased-market-predictor\\newspredictorenv\\lib\\site-packages (from exchange-calendars>=3.3->pandas-market-calendars) (0.2.1)\n",
      "Requirement already satisfied: numpy in c:\\users\\chhal\\documents\\discord_bot\\newsbased-market-predictor\\newspredictorenv\\lib\\site-packages (from exchange-calendars>=3.3->pandas-market-calendars) (1.23.2)\n",
      "Requirement already satisfied: six>=1.5 in c:\\users\\chhal\\documents\\discord_bot\\newsbased-market-predictor\\newspredictorenv\\lib\\site-packages (from python-dateutil->pandas-market-calendars) (1.16.0)\n",
      "Requirement already satisfied: yfinance in c:\\users\\chhal\\documents\\discord_bot\\newsbased-market-predictor\\newspredictorenv\\lib\\site-packages (0.1.74)\n",
      "Requirement already satisfied: multitasking>=0.0.7 in c:\\users\\chhal\\documents\\discord_bot\\newsbased-market-predictor\\newspredictorenv\\lib\\site-packages (from yfinance) (0.0.11)\n",
      "Requirement already satisfied: lxml>=4.5.1 in c:\\users\\chhal\\documents\\discord_bot\\newsbased-market-predictor\\newspredictorenv\\lib\\site-packages (from yfinance) (4.9.1)\n",
      "Requirement already satisfied: requests>=2.26 in c:\\users\\chhal\\documents\\discord_bot\\newsbased-market-predictor\\newspredictorenv\\lib\\site-packages (from yfinance) (2.28.1)\n",
      "Requirement already satisfied: pandas>=0.24.0 in c:\\users\\chhal\\documents\\discord_bot\\newsbased-market-predictor\\newspredictorenv\\lib\\site-packages (from yfinance) (1.4.4)\n",
      "Requirement already satisfied: numpy>=1.15 in c:\\users\\chhal\\documents\\discord_bot\\newsbased-market-predictor\\newspredictorenv\\lib\\site-packages (from yfinance) (1.23.2)\n",
      "Requirement already satisfied: python-dateutil>=2.8.1 in c:\\users\\chhal\\documents\\discord_bot\\newsbased-market-predictor\\newspredictorenv\\lib\\site-packages (from pandas>=0.24.0->yfinance) (2.8.2)\n",
      "Requirement already satisfied: pytz>=2020.1 in c:\\users\\chhal\\documents\\discord_bot\\newsbased-market-predictor\\newspredictorenv\\lib\\site-packages (from pandas>=0.24.0->yfinance) (2022.2.1)\n",
      "Requirement already satisfied: charset-normalizer<3,>=2 in c:\\users\\chhal\\documents\\discord_bot\\newsbased-market-predictor\\newspredictorenv\\lib\\site-packages (from requests>=2.26->yfinance) (2.1.1)\n",
      "Requirement already satisfied: certifi>=2017.4.17 in c:\\users\\chhal\\documents\\discord_bot\\newsbased-market-predictor\\newspredictorenv\\lib\\site-packages (from requests>=2.26->yfinance) (2022.6.15)\n",
      "Requirement already satisfied: idna<4,>=2.5 in c:\\users\\chhal\\documents\\discord_bot\\newsbased-market-predictor\\newspredictorenv\\lib\\site-packages (from requests>=2.26->yfinance) (3.3)\n",
      "Requirement already satisfied: urllib3<1.27,>=1.21.1 in c:\\users\\chhal\\documents\\discord_bot\\newsbased-market-predictor\\newspredictorenv\\lib\\site-packages (from requests>=2.26->yfinance) (1.26.12)\n",
      "Requirement already satisfied: six>=1.5 in c:\\users\\chhal\\documents\\discord_bot\\newsbased-market-predictor\\newspredictorenv\\lib\\site-packages (from python-dateutil>=2.8.1->pandas>=0.24.0->yfinance) (1.16.0)\n",
      "Requirement already satisfied: pyspark in c:\\users\\chhal\\documents\\discord_bot\\newsbased-market-predictor\\newspredictorenv\\lib\\site-packages (3.3.0)\n",
      "Requirement already satisfied: py4j==0.10.9.5 in c:\\users\\chhal\\documents\\discord_bot\\newsbased-market-predictor\\newspredictorenv\\lib\\site-packages (from pyspark) (0.10.9.5)\n",
      "Requirement already satisfied: spark-nlp==4.1.0 in c:\\users\\chhal\\documents\\discord_bot\\newsbased-market-predictor\\newspredictorenv\\lib\\site-packages (4.1.0)\n"
     ]
    }
   ],
   "source": [
    "!pip install pandas-market-calendars\n",
    "!pip install yfinance\n",
    "!pip install pyspark\n",
    "!pip install spark-nlp==4.1.0"
   ]
  },
  {
   "cell_type": "code",
   "execution_count": 1,
   "id": "63847714",
   "metadata": {
    "id": "63847714"
   },
   "outputs": [],
   "source": [
    "# utilities\n",
    "import os\n",
    "import re\n",
    "import csv\n",
    "import numpy as np\n",
    "import pandas as pd\n",
    "import string\n",
    "import sqlite3\n",
    "import requests\n",
    "from datetime import datetime, time, date, timedelta\n",
    "\n",
    "# market Data management\n",
    "import yfinance as yf\n",
    "import holidays\n",
    "import pandas_market_calendars as mcal\n",
    "\n",
    "# Processing\n",
    "import nltk\n",
    "from nltk.corpus import stopwords\n",
    "from nltk.stem import WordNetLemmatizer"
   ]
  },
  {
   "cell_type": "markdown",
   "id": "8de8867d",
   "metadata": {
    "id": "8de8867d"
   },
   "source": [
    "### Get Stock Info"
   ]
  },
  {
   "cell_type": "code",
   "execution_count": 2,
   "id": "159f2066",
   "metadata": {
    "id": "159f2066"
   },
   "outputs": [],
   "source": [
    "SCREENER = { \n",
    "    \"india\" : \"India\"\n",
    "}\n",
    "\n",
    "stocks_list = []\n",
    "\n",
    "for types in [\"\", \"\\\"futures\\\"\"]:\n",
    "    for x, _ in SCREENER.items():\n",
    "#         print(f\"Loading screener: {x}\")\n",
    "        r = requests.post(f\"https://scanner.tradingview.com/{x}/scan\",\n",
    "                          data=f'{{\"symbols\":{{\"tickers\":[],\"query\":{{\"types\":[{types}]}}}},\"columns\":[\"description\"]}}')\n",
    "        for res in r.json()[\"data\"]:\n",
    "            name = res['d'][0]\n",
    "            exchange, symbol = res[\"s\"].split(\":\")\n",
    "            desc = res[\"d\"][0]\n",
    "            stocks_list.append({'name':name,'exchange': exchange, 'symbol':symbol})\n",
    "   \n",
    "stocks_df = pd.DataFrame(stocks_list)\n",
    "stocks_df = stocks_df.loc[stocks_df['exchange'] == 'NSE']"
   ]
  },
  {
   "cell_type": "code",
   "execution_count": 3,
   "id": "8f240d01",
   "metadata": {
    "id": "8f240d01"
   },
   "outputs": [],
   "source": [
    " ## content will be turned into lower case before searching\n",
    "stock_info = {\n",
    "    'tata motors' : 'TATAMOTORS.NS', \n",
    "    'reliance' : 'RELIANCE.NS',\n",
    "    'hdfc bank': 'HDFCBANK.NS',\n",
    "    'bajaj auto': 'BAJAJ-AUTO.NS',\n",
    "    'maruti suzuki': 'MARUTI.NS',\n",
    "    'hero motocorp': 'HEROMOTOCO.NS',\n",
    "    'britannia': 'BRITANNIA.NS',\n",
    "    'nestle': 'NESTLEIND.NS',\n",
    "    'ntpc': 'NTPC.NS',\n",
    "    'titan': 'TITAN.NS',\n",
    "    'cipla': 'CIPLA.NS',\n",
    "    'ongc': 'ONGC.NS',\n",
    "    'tcs': 'TCS.NS',\n",
    "    'l&t': 'LT.NS',\n",
    "    'coal india': 'COALINDIA.NS',\n",
    "    'kotak mahindra bank': 'KOTAKBANK.NS',\n",
    "    ' itc ': 'ITC.NS',\n",
    "    'bajaj finance': 'BAJFINANCE.NS',\n",
    "    'hdfc life': 'HDFCLIFE.NS',\n",
    "    'wipro': 'WIPRO.NS',\n",
    "    'tata steel': 'TATASTEEL.NS',\n",
    "    'induslnd bank': 'INDUSINDBK.NS',\n",
    "    'bajaj finserv': 'BAJAJFINSV.NS',\n",
    "    'ultratech cement': 'ULTRACEMCO.NS',\n",
    "    'airtel': 'BHARTIARTL.NS',\n",
    "    'hindalco': 'HINDALCO.NS',\n",
    "    'shree cement': 'SHREECEM.NS',\n",
    "    'tech mahindra': 'TECHM.NS'}"
   ]
  },
  {
   "cell_type": "markdown",
   "id": "63bdb856",
   "metadata": {
    "id": "63bdb856"
   },
   "source": [
    "### Load Articles "
   ]
  },
  {
   "cell_type": "code",
   "execution_count": 84,
   "id": "42f35e65",
   "metadata": {},
   "outputs": [],
   "source": [
    "DATA_DIR = os.path.abspath(os.path.join(os.path.dirname(os.getcwd()), 'data'))"
   ]
  },
  {
   "cell_type": "code",
   "execution_count": 85,
   "id": "1e2956dd",
   "metadata": {
    "id": "1e2956dd"
   },
   "outputs": [],
   "source": [
    "ARTICLES_UPDATED = False"
   ]
  },
  {
   "cell_type": "code",
   "execution_count": 86,
   "id": "4da1603a",
   "metadata": {
    "id": "4da1603a"
   },
   "outputs": [],
   "source": [
    "if not ARTICLES_UPDATED:\n",
    "    article_data = pd.read_csv(os.path.join(DATA_DIR,'article_data_raw.csv'),header=None,)\n",
    "    article_data.rename(columns = {0:'Title',1:'Datetime',2:'Description',3:'Content'}, inplace = True)\n",
    "        \n",
    "    # change content to lower case    \n",
    "    article_data['Content'] = article_data['Content'].astype(str).str.lower()\n",
    "    article_data.to_csv(os.path.join(DATA_DIR,'article_data.csv'),index=False)\n"
   ]
  },
  {
   "cell_type": "code",
   "execution_count": 87,
   "id": "0c53420f",
   "metadata": {
    "id": "0c53420f"
   },
   "outputs": [
    {
     "data": {
      "text/html": [
       "<div>\n",
       "<style scoped>\n",
       "    .dataframe tbody tr th:only-of-type {\n",
       "        vertical-align: middle;\n",
       "    }\n",
       "\n",
       "    .dataframe tbody tr th {\n",
       "        vertical-align: top;\n",
       "    }\n",
       "\n",
       "    .dataframe thead th {\n",
       "        text-align: right;\n",
       "    }\n",
       "</style>\n",
       "<table border=\"1\" class=\"dataframe\">\n",
       "  <thead>\n",
       "    <tr style=\"text-align: right;\">\n",
       "      <th></th>\n",
       "      <th>Title</th>\n",
       "      <th>Datetime</th>\n",
       "      <th>Description</th>\n",
       "      <th>Content</th>\n",
       "    </tr>\n",
       "  </thead>\n",
       "  <tbody>\n",
       "    <tr>\n",
       "      <th>0</th>\n",
       "      <td>Michael Jordan mourns death of 'little brother...</td>\n",
       "      <td>2020-01-27 09:49:00+00:00</td>\n",
       "      <td>In a statement, Jordan said that Bryant would ...</td>\n",
       "      <td>michael jordan on january 26, mourned the deat...</td>\n",
       "    </tr>\n",
       "    <tr>\n",
       "      <th>1</th>\n",
       "      <td>A tweet from 2012 predicting Kobe Bryant's hel...</td>\n",
       "      <td>2020-01-27 09:19:00+00:00</td>\n",
       "      <td>Bryant, who retired in 2016, died in a helicop...</td>\n",
       "      <td>nba legend kobe bryant and his 13-year-old dau...</td>\n",
       "    </tr>\n",
       "    <tr>\n",
       "      <th>2</th>\n",
       "      <td>Samsung Galaxy Note10 Lite launched for Rs 38,...</td>\n",
       "      <td>2020-01-21 16:48:00+00:00</td>\n",
       "      <td>In spite of being a ‘Lite’ variant, the Galaxy...</td>\n",
       "      <td>samsung india on january 21 launched galaxy no...</td>\n",
       "    </tr>\n",
       "    <tr>\n",
       "      <th>3</th>\n",
       "      <td>Samsung Galaxy Note 10 Lite vs Galaxy S10 Lite...</td>\n",
       "      <td>2020-01-24 19:24:00+00:00</td>\n",
       "      <td>In case you are finding it tough to decide whi...</td>\n",
       "      <td>samsung recently launched two new ‘lite’ smart...</td>\n",
       "    </tr>\n",
       "    <tr>\n",
       "      <th>4</th>\n",
       "      <td>Politics | The many layers to anti-CAA protest...</td>\n",
       "      <td>2020-01-23 15:38:00+00:00</td>\n",
       "      <td>The anti-CAA protests in Assam are steadily pr...</td>\n",
       "      <td>nazimuddin siddiquenonethe protests in assam w...</td>\n",
       "    </tr>\n",
       "    <tr>\n",
       "      <th>...</th>\n",
       "      <td>...</td>\n",
       "      <td>...</td>\n",
       "      <td>...</td>\n",
       "      <td>...</td>\n",
       "    </tr>\n",
       "    <tr>\n",
       "      <th>655</th>\n",
       "      <td>MSI Prestige 14 Review: A portable powerhouse ...</td>\n",
       "      <td>2020-02-24 08:54:00+00:00</td>\n",
       "      <td>Stick around to find out if this ultra portabl...</td>\n",
       "      <td>are you a creative professional who cannot lea...</td>\n",
       "    </tr>\n",
       "    <tr>\n",
       "      <th>656</th>\n",
       "      <td>Citroen to make India debut with C5 Aircross</td>\n",
       "      <td>2020-02-26 07:48:00+00:00</td>\n",
       "      <td>The C5 Aircross is a mid-size SUV that will be...</td>\n",
       "      <td>citroen is gearing up to make its india debut ...</td>\n",
       "    </tr>\n",
       "    <tr>\n",
       "      <th>657</th>\n",
       "      <td>SEBI Chairman Ajay Tyagi to complete term on M...</td>\n",
       "      <td>2020-02-25 20:23:00+00:00</td>\n",
       "      <td>Under his stewardship, the regulator cracked t...</td>\n",
       "      <td>after three years at helm of the securities an...</td>\n",
       "    </tr>\n",
       "    <tr>\n",
       "      <th>658</th>\n",
       "      <td>Poker is a game of skill, has tremendous scope...</td>\n",
       "      <td>2020-02-25 20:36:00+00:00</td>\n",
       "      <td>None</td>\n",
       "      <td>the online gaming industry in india is touchin...</td>\n",
       "    </tr>\n",
       "    <tr>\n",
       "      <th>659</th>\n",
       "      <td>Gilt Fund: Gilt Mutual Fund an alternative to ...</td>\n",
       "      <td>2020-02-25 15:10:00+00:00</td>\n",
       "      <td>Gilt Funds can act as a substitute for NSC &amp; P...</td>\n",
       "      <td>if you are not availing of deductions under se...</td>\n",
       "    </tr>\n",
       "  </tbody>\n",
       "</table>\n",
       "<p>660 rows × 4 columns</p>\n",
       "</div>"
      ],
      "text/plain": [
       "                                                 Title  \\\n",
       "0    Michael Jordan mourns death of 'little brother...   \n",
       "1    A tweet from 2012 predicting Kobe Bryant's hel...   \n",
       "2    Samsung Galaxy Note10 Lite launched for Rs 38,...   \n",
       "3    Samsung Galaxy Note 10 Lite vs Galaxy S10 Lite...   \n",
       "4    Politics | The many layers to anti-CAA protest...   \n",
       "..                                                 ...   \n",
       "655  MSI Prestige 14 Review: A portable powerhouse ...   \n",
       "656       Citroen to make India debut with C5 Aircross   \n",
       "657  SEBI Chairman Ajay Tyagi to complete term on M...   \n",
       "658  Poker is a game of skill, has tremendous scope...   \n",
       "659  Gilt Fund: Gilt Mutual Fund an alternative to ...   \n",
       "\n",
       "                      Datetime  \\\n",
       "0    2020-01-27 09:49:00+00:00   \n",
       "1    2020-01-27 09:19:00+00:00   \n",
       "2    2020-01-21 16:48:00+00:00   \n",
       "3    2020-01-24 19:24:00+00:00   \n",
       "4    2020-01-23 15:38:00+00:00   \n",
       "..                         ...   \n",
       "655  2020-02-24 08:54:00+00:00   \n",
       "656  2020-02-26 07:48:00+00:00   \n",
       "657  2020-02-25 20:23:00+00:00   \n",
       "658  2020-02-25 20:36:00+00:00   \n",
       "659  2020-02-25 15:10:00+00:00   \n",
       "\n",
       "                                           Description  \\\n",
       "0    In a statement, Jordan said that Bryant would ...   \n",
       "1    Bryant, who retired in 2016, died in a helicop...   \n",
       "2    In spite of being a ‘Lite’ variant, the Galaxy...   \n",
       "3    In case you are finding it tough to decide whi...   \n",
       "4    The anti-CAA protests in Assam are steadily pr...   \n",
       "..                                                 ...   \n",
       "655  Stick around to find out if this ultra portabl...   \n",
       "656  The C5 Aircross is a mid-size SUV that will be...   \n",
       "657  Under his stewardship, the regulator cracked t...   \n",
       "658                                               None   \n",
       "659  Gilt Funds can act as a substitute for NSC & P...   \n",
       "\n",
       "                                               Content  \n",
       "0    michael jordan on january 26, mourned the deat...  \n",
       "1    nba legend kobe bryant and his 13-year-old dau...  \n",
       "2    samsung india on january 21 launched galaxy no...  \n",
       "3    samsung recently launched two new ‘lite’ smart...  \n",
       "4    nazimuddin siddiquenonethe protests in assam w...  \n",
       "..                                                 ...  \n",
       "655  are you a creative professional who cannot lea...  \n",
       "656  citroen is gearing up to make its india debut ...  \n",
       "657  after three years at helm of the securities an...  \n",
       "658  the online gaming industry in india is touchin...  \n",
       "659  if you are not availing of deductions under se...  \n",
       "\n",
       "[660 rows x 4 columns]"
      ]
     },
     "execution_count": 87,
     "metadata": {},
     "output_type": "execute_result"
    }
   ],
   "source": [
    "df_main = pd.read_csv(os.path.join(DATA_DIR,'article_data.csv'))\n",
    "df_main"
   ]
  },
  {
   "cell_type": "code",
   "execution_count": 88,
   "id": "b83173e5",
   "metadata": {
    "id": "b83173e5"
   },
   "outputs": [],
   "source": [
    "def find_stock_in_content(content):\n",
    "    content = str(content)\n",
    "    for stock in stock_info.keys():\n",
    "        if stock in content:\n",
    "            return stock_info[stock]"
   ]
  },
  {
   "cell_type": "markdown",
   "id": "56426c7d",
   "metadata": {
    "id": "56426c7d"
   },
   "source": [
    "### Get stock movement after news"
   ]
  },
  {
   "cell_type": "code",
   "execution_count": 89,
   "id": "a4ad1e3a",
   "metadata": {
    "id": "a4ad1e3a"
   },
   "outputs": [],
   "source": [
    "bse = mcal.get_calendar('BSE')\n",
    "holidays = bse.holidays().holidays\n",
    "\n",
    "def next_trading_date(date):\n",
    "    date += timedelta(1)\n",
    "    while (date in holidays) or (date.isoweekday() > 5):\n",
    "        date += timedelta(1)\n",
    "    return date"
   ]
  },
  {
   "cell_type": "code",
   "execution_count": 90,
   "id": "ec9fe3b1",
   "metadata": {
    "id": "ec9fe3b1"
   },
   "outputs": [],
   "source": [
    "def get_change(ticker,dt):\n",
    "    \n",
    "    srt_date = dt.date()\n",
    "    start_time = dt.time()\n",
    "    \n",
    "    # if after market\n",
    "    if(start_time > time(15,0,0)):\n",
    "        srt_date = next_trading_date(srt_date)\n",
    "        start_time = time(9,30,0)\n",
    "    \n",
    "    # before market open\n",
    "    elif(start_time < time(9,30,0)):\n",
    "        srt_date = next_trading_date(srt_date - timedelta(1))\n",
    "        start_time = time(9,30,0)\n",
    "    \n",
    "    # during market hours and market closed \n",
    "    elif(srt_date != next_trading_date(srt_date - timedelta(1))):\n",
    "        start_date = next_trading_date(srt_date)\n",
    "        start_time = time(9,30,0)\n",
    "        \n",
    "#     print(srt_date, start_time)\n",
    "    data = yf.download(tickers=ticker, start=srt_date,end=srt_date+timedelta(1),start_time=start_time,period='1d')\n",
    "\n",
    "    if data.empty:\n",
    "        return np.nan\n",
    "    change = ((data['Adj Close'][0] - data['Open'][0]) / data['Open'][0]) * 100\n",
    "    return round(change,2)"
   ]
  },
  {
   "cell_type": "code",
   "execution_count": 91,
   "id": "9066121c",
   "metadata": {
    "id": "9066121c"
   },
   "outputs": [
    {
     "name": "stdout",
     "output_type": "stream",
     "text": [
      "[*********************100%***********************]  1 of 1 completed\n",
      "[*********************100%***********************]  1 of 1 completed\n",
      "[*********************100%***********************]  1 of 1 completed\n",
      "[*********************100%***********************]  1 of 1 completed\n",
      "[*********************100%***********************]  1 of 1 completed\n",
      "[*********************100%***********************]  1 of 1 completed\n",
      "[*********************100%***********************]  1 of 1 completed\n",
      "[*********************100%***********************]  1 of 1 completed\n",
      "[*********************100%***********************]  1 of 1 completed\n",
      "[*********************100%***********************]  1 of 1 completed\n",
      "[*********************100%***********************]  1 of 1 completed\n",
      "[*********************100%***********************]  1 of 1 completed\n",
      "[*********************100%***********************]  1 of 1 completed\n",
      "\n",
      "1 Failed download:\n",
      "- RELIANCE.NS: No data found for this date range, symbol may be delisted\n",
      "[*********************100%***********************]  1 of 1 completed\n",
      "[*********************100%***********************]  1 of 1 completed\n",
      "[*********************100%***********************]  1 of 1 completed\n",
      "[*********************100%***********************]  1 of 1 completed\n",
      "[*********************100%***********************]  1 of 1 completed\n",
      "[*********************100%***********************]  1 of 1 completed\n",
      "[*********************100%***********************]  1 of 1 completed\n",
      "[*********************100%***********************]  1 of 1 completed\n",
      "[*********************100%***********************]  1 of 1 completed\n",
      "[*********************100%***********************]  1 of 1 completed\n",
      "[*********************100%***********************]  1 of 1 completed\n",
      "[*********************100%***********************]  1 of 1 completed\n",
      "[*********************100%***********************]  1 of 1 completed\n",
      "[*********************100%***********************]  1 of 1 completed\n",
      "[*********************100%***********************]  1 of 1 completed\n",
      "\n",
      "1 Failed download:\n",
      "- COALINDIA.NS: No data found for this date range, symbol may be delisted\n",
      "[*********************100%***********************]  1 of 1 completed\n",
      "[*********************100%***********************]  1 of 1 completed\n",
      "[*********************100%***********************]  1 of 1 completed\n",
      "[*********************100%***********************]  1 of 1 completed\n",
      "[*********************100%***********************]  1 of 1 completed\n",
      "[*********************100%***********************]  1 of 1 completed\n",
      "[*********************100%***********************]  1 of 1 completed\n",
      "[*********************100%***********************]  1 of 1 completed\n",
      "[*********************100%***********************]  1 of 1 completed\n",
      "[*********************100%***********************]  1 of 1 completed\n",
      "[*********************100%***********************]  1 of 1 completed\n",
      "[*********************100%***********************]  1 of 1 completed\n",
      "[*********************100%***********************]  1 of 1 completed\n",
      "[*********************100%***********************]  1 of 1 completed\n",
      "[*********************100%***********************]  1 of 1 completed\n",
      "[*********************100%***********************]  1 of 1 completed\n",
      "[*********************100%***********************]  1 of 1 completed\n",
      "[*********************100%***********************]  1 of 1 completed\n",
      "[*********************100%***********************]  1 of 1 completed\n",
      "\n",
      "1 Failed download:\n",
      "- BHARTIARTL.NS: No data found for this date range, symbol may be delisted\n",
      "[*********************100%***********************]  1 of 1 completed\n",
      "[*********************100%***********************]  1 of 1 completed\n",
      "[*********************100%***********************]  1 of 1 completed\n",
      "[*********************100%***********************]  1 of 1 completed\n",
      "[*********************100%***********************]  1 of 1 completed\n",
      "[*********************100%***********************]  1 of 1 completed\n",
      "[*********************100%***********************]  1 of 1 completed\n",
      "[*********************100%***********************]  1 of 1 completed\n",
      "[*********************100%***********************]  1 of 1 completed\n",
      "[*********************100%***********************]  1 of 1 completed\n",
      "[*********************100%***********************]  1 of 1 completed\n",
      "[*********************100%***********************]  1 of 1 completed\n",
      "[*********************100%***********************]  1 of 1 completed\n",
      "[*********************100%***********************]  1 of 1 completed\n",
      "[*********************100%***********************]  1 of 1 completed\n",
      "[*********************100%***********************]  1 of 1 completed\n",
      "[*********************100%***********************]  1 of 1 completed\n",
      "[*********************100%***********************]  1 of 1 completed\n",
      "[*********************100%***********************]  1 of 1 completed\n",
      "[*********************100%***********************]  1 of 1 completed\n",
      "[*********************100%***********************]  1 of 1 completed\n",
      "[*********************100%***********************]  1 of 1 completed\n",
      "[*********************100%***********************]  1 of 1 completed\n",
      "[*********************100%***********************]  1 of 1 completed\n",
      "[*********************100%***********************]  1 of 1 completed\n",
      "[*********************100%***********************]  1 of 1 completed\n",
      "[*********************100%***********************]  1 of 1 completed\n",
      "[*********************100%***********************]  1 of 1 completed\n",
      "[*********************100%***********************]  1 of 1 completed\n",
      "[*********************100%***********************]  1 of 1 completed\n",
      "[*********************100%***********************]  1 of 1 completed\n",
      "[*********************100%***********************]  1 of 1 completed\n",
      "[*********************100%***********************]  1 of 1 completed\n",
      "[*********************100%***********************]  1 of 1 completed\n",
      "[*********************100%***********************]  1 of 1 completed\n",
      "[*********************100%***********************]  1 of 1 completed\n",
      "[*********************100%***********************]  1 of 1 completed\n",
      "[*********************100%***********************]  1 of 1 completed\n",
      "[*********************100%***********************]  1 of 1 completed\n",
      "[*********************100%***********************]  1 of 1 completed\n",
      "[*********************100%***********************]  1 of 1 completed\n",
      "[*********************100%***********************]  1 of 1 completed\n",
      "[*********************100%***********************]  1 of 1 completed\n",
      "[*********************100%***********************]  1 of 1 completed\n",
      "[*********************100%***********************]  1 of 1 completed\n",
      "[*********************100%***********************]  1 of 1 completed\n"
     ]
    }
   ],
   "source": [
    "# Add change percentage of stock after news\n",
    "CHANGE_CSV = False\n",
    "\n",
    "if not CHANGE_CSV:\n",
    "    change = []\n",
    "    for i in range (len(df_main)):\n",
    "        row = df_main.iloc[i,:]\n",
    "        dt = datetime.strptime(row['Datetime'], '%Y-%m-%d %H:%M:%S%z')\n",
    "        content = row['Content']\n",
    "\n",
    "        ticker = find_stock_in_content(content)\n",
    "        if ticker != None:\n",
    "            change.append(get_change(ticker,dt))\n",
    "        else :\n",
    "            change.append(np.nan)\n",
    "\n",
    "\n",
    "    df_main['Change'] = change\n",
    "    df_main = df_main[[\"Datetime\",'Title','Description','Content','Change']]\n",
    "    df_main.to_csv(os.path.join(DATA_DIR,'change_percent_data.csv'),index=False)\n",
    "  "
   ]
  },
  {
   "cell_type": "markdown",
   "id": "S0krsMKpisgJ",
   "metadata": {
    "id": "S0krsMKpisgJ"
   },
   "source": [
    "Processing steps -\n",
    "*   cleaning\n",
    "*   tokenization\n",
    "*   stop word removal \n",
    "*   lemmetization\n",
    "*   stemming"
   ]
  },
  {
   "cell_type": "code",
   "execution_count": 92,
   "id": "PLJyVg2hkWj-",
   "metadata": {
    "id": "PLJyVg2hkWj-"
   },
   "outputs": [],
   "source": [
    "df_main = pd.read_csv(os.path.join(DATA_DIR,'change_percent_data.csv'))"
   ]
  },
  {
   "cell_type": "code",
   "execution_count": 93,
   "id": "993b1dd3",
   "metadata": {},
   "outputs": [
    {
     "data": {
      "text/html": [
       "<div>\n",
       "<style scoped>\n",
       "    .dataframe tbody tr th:only-of-type {\n",
       "        vertical-align: middle;\n",
       "    }\n",
       "\n",
       "    .dataframe tbody tr th {\n",
       "        vertical-align: top;\n",
       "    }\n",
       "\n",
       "    .dataframe thead th {\n",
       "        text-align: right;\n",
       "    }\n",
       "</style>\n",
       "<table border=\"1\" class=\"dataframe\">\n",
       "  <thead>\n",
       "    <tr style=\"text-align: right;\">\n",
       "      <th></th>\n",
       "      <th>Datetime</th>\n",
       "      <th>Title</th>\n",
       "      <th>Description</th>\n",
       "      <th>Content</th>\n",
       "      <th>Change</th>\n",
       "    </tr>\n",
       "  </thead>\n",
       "  <tbody>\n",
       "    <tr>\n",
       "      <th>0</th>\n",
       "      <td>2020-01-27 09:49:00+00:00</td>\n",
       "      <td>Michael Jordan mourns death of 'little brother...</td>\n",
       "      <td>In a statement, Jordan said that Bryant would ...</td>\n",
       "      <td>michael jordan on january 26, mourned the deat...</td>\n",
       "      <td>NaN</td>\n",
       "    </tr>\n",
       "    <tr>\n",
       "      <th>1</th>\n",
       "      <td>2020-01-27 09:19:00+00:00</td>\n",
       "      <td>A tweet from 2012 predicting Kobe Bryant's hel...</td>\n",
       "      <td>Bryant, who retired in 2016, died in a helicop...</td>\n",
       "      <td>nba legend kobe bryant and his 13-year-old dau...</td>\n",
       "      <td>NaN</td>\n",
       "    </tr>\n",
       "    <tr>\n",
       "      <th>2</th>\n",
       "      <td>2020-01-21 16:48:00+00:00</td>\n",
       "      <td>Samsung Galaxy Note10 Lite launched for Rs 38,...</td>\n",
       "      <td>In spite of being a ‘Lite’ variant, the Galaxy...</td>\n",
       "      <td>samsung india on january 21 launched galaxy no...</td>\n",
       "      <td>NaN</td>\n",
       "    </tr>\n",
       "    <tr>\n",
       "      <th>3</th>\n",
       "      <td>2020-01-24 19:24:00+00:00</td>\n",
       "      <td>Samsung Galaxy Note 10 Lite vs Galaxy S10 Lite...</td>\n",
       "      <td>In case you are finding it tough to decide whi...</td>\n",
       "      <td>samsung recently launched two new ‘lite’ smart...</td>\n",
       "      <td>NaN</td>\n",
       "    </tr>\n",
       "    <tr>\n",
       "      <th>4</th>\n",
       "      <td>2020-01-23 15:38:00+00:00</td>\n",
       "      <td>Politics | The many layers to anti-CAA protest...</td>\n",
       "      <td>The anti-CAA protests in Assam are steadily pr...</td>\n",
       "      <td>nazimuddin siddiquenonethe protests in assam w...</td>\n",
       "      <td>NaN</td>\n",
       "    </tr>\n",
       "    <tr>\n",
       "      <th>...</th>\n",
       "      <td>...</td>\n",
       "      <td>...</td>\n",
       "      <td>...</td>\n",
       "      <td>...</td>\n",
       "      <td>...</td>\n",
       "    </tr>\n",
       "    <tr>\n",
       "      <th>655</th>\n",
       "      <td>2020-02-24 08:54:00+00:00</td>\n",
       "      <td>MSI Prestige 14 Review: A portable powerhouse ...</td>\n",
       "      <td>Stick around to find out if this ultra portabl...</td>\n",
       "      <td>are you a creative professional who cannot lea...</td>\n",
       "      <td>NaN</td>\n",
       "    </tr>\n",
       "    <tr>\n",
       "      <th>656</th>\n",
       "      <td>2020-02-26 07:48:00+00:00</td>\n",
       "      <td>Citroen to make India debut with C5 Aircross</td>\n",
       "      <td>The C5 Aircross is a mid-size SUV that will be...</td>\n",
       "      <td>citroen is gearing up to make its india debut ...</td>\n",
       "      <td>NaN</td>\n",
       "    </tr>\n",
       "    <tr>\n",
       "      <th>657</th>\n",
       "      <td>2020-02-25 20:23:00+00:00</td>\n",
       "      <td>SEBI Chairman Ajay Tyagi to complete term on M...</td>\n",
       "      <td>Under his stewardship, the regulator cracked t...</td>\n",
       "      <td>after three years at helm of the securities an...</td>\n",
       "      <td>NaN</td>\n",
       "    </tr>\n",
       "    <tr>\n",
       "      <th>658</th>\n",
       "      <td>2020-02-25 20:36:00+00:00</td>\n",
       "      <td>Poker is a game of skill, has tremendous scope...</td>\n",
       "      <td>None</td>\n",
       "      <td>the online gaming industry in india is touchin...</td>\n",
       "      <td>NaN</td>\n",
       "    </tr>\n",
       "    <tr>\n",
       "      <th>659</th>\n",
       "      <td>2020-02-25 15:10:00+00:00</td>\n",
       "      <td>Gilt Fund: Gilt Mutual Fund an alternative to ...</td>\n",
       "      <td>Gilt Funds can act as a substitute for NSC &amp; P...</td>\n",
       "      <td>if you are not availing of deductions under se...</td>\n",
       "      <td>NaN</td>\n",
       "    </tr>\n",
       "  </tbody>\n",
       "</table>\n",
       "<p>660 rows × 5 columns</p>\n",
       "</div>"
      ],
      "text/plain": [
       "                      Datetime  \\\n",
       "0    2020-01-27 09:49:00+00:00   \n",
       "1    2020-01-27 09:19:00+00:00   \n",
       "2    2020-01-21 16:48:00+00:00   \n",
       "3    2020-01-24 19:24:00+00:00   \n",
       "4    2020-01-23 15:38:00+00:00   \n",
       "..                         ...   \n",
       "655  2020-02-24 08:54:00+00:00   \n",
       "656  2020-02-26 07:48:00+00:00   \n",
       "657  2020-02-25 20:23:00+00:00   \n",
       "658  2020-02-25 20:36:00+00:00   \n",
       "659  2020-02-25 15:10:00+00:00   \n",
       "\n",
       "                                                 Title  \\\n",
       "0    Michael Jordan mourns death of 'little brother...   \n",
       "1    A tweet from 2012 predicting Kobe Bryant's hel...   \n",
       "2    Samsung Galaxy Note10 Lite launched for Rs 38,...   \n",
       "3    Samsung Galaxy Note 10 Lite vs Galaxy S10 Lite...   \n",
       "4    Politics | The many layers to anti-CAA protest...   \n",
       "..                                                 ...   \n",
       "655  MSI Prestige 14 Review: A portable powerhouse ...   \n",
       "656       Citroen to make India debut with C5 Aircross   \n",
       "657  SEBI Chairman Ajay Tyagi to complete term on M...   \n",
       "658  Poker is a game of skill, has tremendous scope...   \n",
       "659  Gilt Fund: Gilt Mutual Fund an alternative to ...   \n",
       "\n",
       "                                           Description  \\\n",
       "0    In a statement, Jordan said that Bryant would ...   \n",
       "1    Bryant, who retired in 2016, died in a helicop...   \n",
       "2    In spite of being a ‘Lite’ variant, the Galaxy...   \n",
       "3    In case you are finding it tough to decide whi...   \n",
       "4    The anti-CAA protests in Assam are steadily pr...   \n",
       "..                                                 ...   \n",
       "655  Stick around to find out if this ultra portabl...   \n",
       "656  The C5 Aircross is a mid-size SUV that will be...   \n",
       "657  Under his stewardship, the regulator cracked t...   \n",
       "658                                               None   \n",
       "659  Gilt Funds can act as a substitute for NSC & P...   \n",
       "\n",
       "                                               Content  Change  \n",
       "0    michael jordan on january 26, mourned the deat...     NaN  \n",
       "1    nba legend kobe bryant and his 13-year-old dau...     NaN  \n",
       "2    samsung india on january 21 launched galaxy no...     NaN  \n",
       "3    samsung recently launched two new ‘lite’ smart...     NaN  \n",
       "4    nazimuddin siddiquenonethe protests in assam w...     NaN  \n",
       "..                                                 ...     ...  \n",
       "655  are you a creative professional who cannot lea...     NaN  \n",
       "656  citroen is gearing up to make its india debut ...     NaN  \n",
       "657  after three years at helm of the securities an...     NaN  \n",
       "658  the online gaming industry in india is touchin...     NaN  \n",
       "659  if you are not availing of deductions under se...     NaN  \n",
       "\n",
       "[660 rows x 5 columns]"
      ]
     },
     "execution_count": 93,
     "metadata": {},
     "output_type": "execute_result"
    }
   ],
   "source": [
    "df_main"
   ]
  },
  {
   "cell_type": "markdown",
   "id": "2a8lGk-1jiex",
   "metadata": {
    "id": "2a8lGk-1jiex"
   },
   "source": [
    "### 1. Cleaning"
   ]
  },
  {
   "cell_type": "code",
   "execution_count": 94,
   "id": "d0e7fc22",
   "metadata": {
    "id": "d0e7fc22"
   },
   "outputs": [],
   "source": [
    "def clean_content(content):\n",
    "    content = str(content)\n",
    "    \n",
    "    # remove all the punctuations\n",
    "    content = re.sub(r'[^\\w\\s]', '', content)\n",
    "    \n",
    "    # remove all numbers\n",
    "    content = content.translate(str.maketrans('','',string.digits))\n",
    "    \n",
    "    # remove double spacing\n",
    "    content = re.sub(' +', ' ', content)\n",
    "    \n",
    "    return content"
   ]
  },
  {
   "cell_type": "code",
   "execution_count": 95,
   "id": "2cdd0573",
   "metadata": {
    "id": "2cdd0573"
   },
   "outputs": [],
   "source": [
    "# Clean contents\n",
    "df_main.dropna(inplace=True)\n",
    "df_main['Content'] = df_main['Content'].map((lambda c: clean_content(c)),na_action=None)"
   ]
  },
  {
   "cell_type": "markdown",
   "id": "YScPN6R1jqCl",
   "metadata": {
    "id": "YScPN6R1jqCl"
   },
   "source": [
    "### 2.Tokenization"
   ]
  },
  {
   "cell_type": "code",
   "execution_count": 96,
   "id": "A3Ly0HKzjogA",
   "metadata": {
    "colab": {
     "base_uri": "https://localhost:8080/"
    },
    "id": "A3Ly0HKzjogA",
    "outputId": "29c0d2af-1414-4d9c-9a10-14d8da37a753"
   },
   "outputs": [
    {
     "name": "stderr",
     "output_type": "stream",
     "text": [
      "[nltk_data] Downloading package punkt to\n",
      "[nltk_data]     C:\\Users\\chhal\\AppData\\Roaming\\nltk_data...\n",
      "[nltk_data]   Package punkt is already up-to-date!\n",
      "[nltk_data] Downloading package wordnet to\n",
      "[nltk_data]     C:\\Users\\chhal\\AppData\\Roaming\\nltk_data...\n",
      "[nltk_data]   Package wordnet is already up-to-date!\n"
     ]
    },
    {
     "data": {
      "text/plain": [
       "True"
      ]
     },
     "execution_count": 96,
     "metadata": {},
     "output_type": "execute_result"
    }
   ],
   "source": [
    "nltk.download('punkt')\n",
    "nltk.download('wordnet')"
   ]
  },
  {
   "cell_type": "code",
   "execution_count": 97,
   "id": "uZQsS12UjoqM",
   "metadata": {
    "id": "uZQsS12UjoqM"
   },
   "outputs": [],
   "source": [
    "df_main['Content'] = df_main['Content'].map((lambda c: nltk.word_tokenize(c)),na_action=None)"
   ]
  },
  {
   "cell_type": "markdown",
   "id": "ZwK_X0iSmN15",
   "metadata": {
    "id": "ZwK_X0iSmN15"
   },
   "source": [
    "### 3. Stop word removal"
   ]
  },
  {
   "cell_type": "code",
   "execution_count": 98,
   "id": "5AWpA5LWjovX",
   "metadata": {
    "colab": {
     "base_uri": "https://localhost:8080/"
    },
    "id": "5AWpA5LWjovX",
    "outputId": "3ae99f9d-3efa-4dd4-d54e-91e9ae81221a"
   },
   "outputs": [
    {
     "name": "stderr",
     "output_type": "stream",
     "text": [
      "[nltk_data] Downloading package stopwords to\n",
      "[nltk_data]     C:\\Users\\chhal\\AppData\\Roaming\\nltk_data...\n",
      "[nltk_data]   Package stopwords is already up-to-date!\n"
     ]
    }
   ],
   "source": [
    "nltk.download('stopwords')\n",
    "stop_words = stopwords.words('english')\n",
    "\n",
    "def remove_stop_words(content):\n",
    "      return [x for x in content if x not in stop_words]"
   ]
  },
  {
   "cell_type": "code",
   "execution_count": 99,
   "id": "d3128d53",
   "metadata": {},
   "outputs": [],
   "source": [
    "df_main['Content'] = df_main['Content'].map((lambda c: remove_stop_words(c)),na_action=None)"
   ]
  },
  {
   "cell_type": "markdown",
   "id": "bb3f003a",
   "metadata": {
    "id": "bb3f003a"
   },
   "source": [
    "### 4. Lemmatization"
   ]
  },
  {
   "cell_type": "code",
   "execution_count": 100,
   "id": "3332d825",
   "metadata": {
    "id": "3332d825"
   },
   "outputs": [
    {
     "name": "stderr",
     "output_type": "stream",
     "text": [
      "[nltk_data] Downloading package omw-1.4 to\n",
      "[nltk_data]     C:\\Users\\chhal\\AppData\\Roaming\\nltk_data...\n",
      "[nltk_data]   Package omw-1.4 is already up-to-date!\n"
     ]
    }
   ],
   "source": [
    "nltk.download('omw-1.4')\n",
    "def lemmatize(content):\n",
    "    lemmatizer = WordNetLemmatizer()\n",
    "    return [lemmatizer.lemmatize(word) for word in content]"
   ]
  },
  {
   "cell_type": "code",
   "execution_count": 101,
   "id": "WUtUfAGem7c9",
   "metadata": {
    "id": "WUtUfAGem7c9"
   },
   "outputs": [],
   "source": [
    "df_main['Content'] = df_main['Content'].map((lambda c: lemmatize(c)),na_action=None)"
   ]
  },
  {
   "cell_type": "code",
   "execution_count": 102,
   "id": "e06341fe",
   "metadata": {},
   "outputs": [],
   "source": [
    "## convert lemmaatised list into comma seperated string\n",
    "def list_to_string(ls):\n",
    "    string = ''\n",
    "    for word in ls:\n",
    "        string += word + ','\n",
    "    return string.rstrip(',')\n",
    "\n",
    "df_main['Content'] = df_main['Content'].map((lambda c: list_to_string(c)),na_action=None)"
   ]
  },
  {
   "cell_type": "code",
   "execution_count": 103,
   "id": "f3292f44",
   "metadata": {
    "scrolled": false
   },
   "outputs": [],
   "source": [
    "df_main = df_main.reset_index().drop(columns=['index'])"
   ]
  },
  {
   "cell_type": "code",
   "execution_count": 104,
   "id": "3070f1bb",
   "metadata": {
    "scrolled": false
   },
   "outputs": [
    {
     "data": {
      "text/plain": [
       "Datetime       False\n",
       "Title          False\n",
       "Description    False\n",
       "Content        False\n",
       "Change         False\n",
       "dtype: bool"
      ]
     },
     "execution_count": 104,
     "metadata": {},
     "output_type": "execute_result"
    }
   ],
   "source": [
    "df_main.isnull().any()\n"
   ]
  },
  {
   "cell_type": "code",
   "execution_count": 106,
   "id": "51719482",
   "metadata": {},
   "outputs": [],
   "source": [
    "df_main.to_csv(os.path.join(DATA_DIR,'preprocessed_data.csv'),index=False,mode='a',header=False)"
   ]
  },
  {
   "cell_type": "code",
   "execution_count": 107,
   "id": "e12eba40",
   "metadata": {},
   "outputs": [
    {
     "data": {
      "text/html": [
       "<div>\n",
       "<style scoped>\n",
       "    .dataframe tbody tr th:only-of-type {\n",
       "        vertical-align: middle;\n",
       "    }\n",
       "\n",
       "    .dataframe tbody tr th {\n",
       "        vertical-align: top;\n",
       "    }\n",
       "\n",
       "    .dataframe thead th {\n",
       "        text-align: right;\n",
       "    }\n",
       "</style>\n",
       "<table border=\"1\" class=\"dataframe\">\n",
       "  <thead>\n",
       "    <tr style=\"text-align: right;\">\n",
       "      <th></th>\n",
       "      <th>Datetime</th>\n",
       "      <th>Title</th>\n",
       "      <th>Description</th>\n",
       "      <th>Content</th>\n",
       "      <th>Change</th>\n",
       "    </tr>\n",
       "  </thead>\n",
       "  <tbody>\n",
       "    <tr>\n",
       "      <th>0</th>\n",
       "      <td>2020-01-22 20:15:00+00:00</td>\n",
       "      <td>Tata Altroz launched at Rs 5.29 lakh, cheaper ...</td>\n",
       "      <td>Besides Baleno, Altroz will compete against th...</td>\n",
       "      <td>nonethe,diesel,version,altroz,priced,r,lakh,to...</td>\n",
       "      <td>0.88</td>\n",
       "    </tr>\n",
       "    <tr>\n",
       "      <th>1</th>\n",
       "      <td>2020-01-22 09:00:00+00:00</td>\n",
       "      <td>Preview: Tata Altroz to launch today, along wi...</td>\n",
       "      <td>Tata has given the Altroz its Impact Design 2....</td>\n",
       "      <td>indian,carmaker,tata,motor,gearing,update,line...</td>\n",
       "      <td>-3.31</td>\n",
       "    </tr>\n",
       "    <tr>\n",
       "      <th>2</th>\n",
       "      <td>2020-01-24 16:34:00+00:00</td>\n",
       "      <td>Expect 'huge appetite' for Triumph bikes: Baja...</td>\n",
       "      <td>The bikes produced under the brand will be ava...</td>\n",
       "      <td>nonethe,bike,produced,brand,available,price,st...</td>\n",
       "      <td>-10.47</td>\n",
       "    </tr>\n",
       "    <tr>\n",
       "      <th>3</th>\n",
       "      <td>2020-01-23 18:58:00+00:00</td>\n",
       "      <td>Western Union, Airtel to launch real-time glob...</td>\n",
       "      <td>Airtel Payments Bank Customers can soon direct...</td>\n",
       "      <td>western,union,bharti,airtel,limited,come,toget...</td>\n",
       "      <td>-0.08</td>\n",
       "    </tr>\n",
       "    <tr>\n",
       "      <th>4</th>\n",
       "      <td>2020-01-24 13:02:00+00:00</td>\n",
       "      <td>Maruti Suzuki begins export of S-Presso</td>\n",
       "      <td>\"S-Presso is a true symbol of Make in India. T...</td>\n",
       "      <td>country,largest,carmaker,maruti,suzuki,india,m...</td>\n",
       "      <td>-2.44</td>\n",
       "    </tr>\n",
       "    <tr>\n",
       "      <th>...</th>\n",
       "      <td>...</td>\n",
       "      <td>...</td>\n",
       "      <td>...</td>\n",
       "      <td>...</td>\n",
       "      <td>...</td>\n",
       "    </tr>\n",
       "    <tr>\n",
       "      <th>85</th>\n",
       "      <td>2020-02-29 15:28:00+00:00</td>\n",
       "      <td>Uday Dave | Journey from medical transcription...</td>\n",
       "      <td>Intraday trading, that too discretionary tradi...</td>\n",
       "      <td>time,people,going,midlife,crisis,baroda,based,...</td>\n",
       "      <td>-20.39</td>\n",
       "    </tr>\n",
       "    <tr>\n",
       "      <th>86</th>\n",
       "      <td>2020-02-27 21:10:00+00:00</td>\n",
       "      <td>Suryoday Small Finance Bank finalises merchant...</td>\n",
       "      <td>Suryoday Small Finance Bank has kicked off the...</td>\n",
       "      <td>mumbaiheadquartered,suryoday,small,finance,ban...</td>\n",
       "      <td>-2.35</td>\n",
       "    </tr>\n",
       "    <tr>\n",
       "      <th>87</th>\n",
       "      <td>2020-02-27 15:06:00+00:00</td>\n",
       "      <td>Fiat Chrysler lines up electric cars, SUVs for...</td>\n",
       "      <td>FCA is working on battery powered vehicles at ...</td>\n",
       "      <td>fca,india,smallest,car,maker,country,planning,...</td>\n",
       "      <td>-7.13</td>\n",
       "    </tr>\n",
       "    <tr>\n",
       "      <th>88</th>\n",
       "      <td>2020-02-27 18:34:00+00:00</td>\n",
       "      <td>Gross NPAs in LIC's debt portfolio touch recor...</td>\n",
       "      <td>While net NPA stayed constant at 0.36 percent,...</td>\n",
       "      <td>nonethis,highest,gross,npa,debt,portfolio,leve...</td>\n",
       "      <td>-2.35</td>\n",
       "    </tr>\n",
       "    <tr>\n",
       "      <th>89</th>\n",
       "      <td>2020-02-24 21:23:00+00:00</td>\n",
       "      <td>Bajaj Auto to develop low-cost electric scoote...</td>\n",
       "      <td>Bajaj Auto has started to develop single-seate...</td>\n",
       "      <td>nonethe,punebased,company,picked,stake,worth,m...</td>\n",
       "      <td>-12.17</td>\n",
       "    </tr>\n",
       "  </tbody>\n",
       "</table>\n",
       "<p>90 rows × 5 columns</p>\n",
       "</div>"
      ],
      "text/plain": [
       "                     Datetime  \\\n",
       "0   2020-01-22 20:15:00+00:00   \n",
       "1   2020-01-22 09:00:00+00:00   \n",
       "2   2020-01-24 16:34:00+00:00   \n",
       "3   2020-01-23 18:58:00+00:00   \n",
       "4   2020-01-24 13:02:00+00:00   \n",
       "..                        ...   \n",
       "85  2020-02-29 15:28:00+00:00   \n",
       "86  2020-02-27 21:10:00+00:00   \n",
       "87  2020-02-27 15:06:00+00:00   \n",
       "88  2020-02-27 18:34:00+00:00   \n",
       "89  2020-02-24 21:23:00+00:00   \n",
       "\n",
       "                                                Title  \\\n",
       "0   Tata Altroz launched at Rs 5.29 lakh, cheaper ...   \n",
       "1   Preview: Tata Altroz to launch today, along wi...   \n",
       "2   Expect 'huge appetite' for Triumph bikes: Baja...   \n",
       "3   Western Union, Airtel to launch real-time glob...   \n",
       "4             Maruti Suzuki begins export of S-Presso   \n",
       "..                                                ...   \n",
       "85  Uday Dave | Journey from medical transcription...   \n",
       "86  Suryoday Small Finance Bank finalises merchant...   \n",
       "87  Fiat Chrysler lines up electric cars, SUVs for...   \n",
       "88  Gross NPAs in LIC's debt portfolio touch recor...   \n",
       "89  Bajaj Auto to develop low-cost electric scoote...   \n",
       "\n",
       "                                          Description  \\\n",
       "0   Besides Baleno, Altroz will compete against th...   \n",
       "1   Tata has given the Altroz its Impact Design 2....   \n",
       "2   The bikes produced under the brand will be ava...   \n",
       "3   Airtel Payments Bank Customers can soon direct...   \n",
       "4   \"S-Presso is a true symbol of Make in India. T...   \n",
       "..                                                ...   \n",
       "85  Intraday trading, that too discretionary tradi...   \n",
       "86  Suryoday Small Finance Bank has kicked off the...   \n",
       "87  FCA is working on battery powered vehicles at ...   \n",
       "88  While net NPA stayed constant at 0.36 percent,...   \n",
       "89  Bajaj Auto has started to develop single-seate...   \n",
       "\n",
       "                                              Content  Change  \n",
       "0   nonethe,diesel,version,altroz,priced,r,lakh,to...    0.88  \n",
       "1   indian,carmaker,tata,motor,gearing,update,line...   -3.31  \n",
       "2   nonethe,bike,produced,brand,available,price,st...  -10.47  \n",
       "3   western,union,bharti,airtel,limited,come,toget...   -0.08  \n",
       "4   country,largest,carmaker,maruti,suzuki,india,m...   -2.44  \n",
       "..                                                ...     ...  \n",
       "85  time,people,going,midlife,crisis,baroda,based,...  -20.39  \n",
       "86  mumbaiheadquartered,suryoday,small,finance,ban...   -2.35  \n",
       "87  fca,india,smallest,car,maker,country,planning,...   -7.13  \n",
       "88  nonethis,highest,gross,npa,debt,portfolio,leve...   -2.35  \n",
       "89  nonethe,punebased,company,picked,stake,worth,m...  -12.17  \n",
       "\n",
       "[90 rows x 5 columns]"
      ]
     },
     "execution_count": 107,
     "metadata": {},
     "output_type": "execute_result"
    }
   ],
   "source": [
    "df_main"
   ]
  },
  {
   "cell_type": "code",
   "execution_count": null,
   "id": "4b1b5a01",
   "metadata": {},
   "outputs": [],
   "source": []
  }
 ],
 "metadata": {
  "colab": {
   "collapsed_sections": [],
   "provenance": []
  },
  "kernelspec": {
   "display_name": "newsPredictorEnv",
   "language": "python",
   "name": "newspredictorenv"
  },
  "language_info": {
   "codemirror_mode": {
    "name": "ipython",
    "version": 3
   },
   "file_extension": ".py",
   "mimetype": "text/x-python",
   "name": "python",
   "nbconvert_exporter": "python",
   "pygments_lexer": "ipython3",
   "version": "3.9.5"
  }
 },
 "nbformat": 4,
 "nbformat_minor": 5
}
