{
 "cells": [
  {
   "cell_type": "code",
   "execution_count": 1,
   "id": "07ad14e1",
   "metadata": {
    "colab": {
     "base_uri": "https://localhost:8080/"
    },
    "id": "07ad14e1",
    "outputId": "2ace9c70-b5da-4826-9dc9-07ad345c6ea3"
   },
   "outputs": [
    {
     "name": "stdout",
     "output_type": "stream",
     "text": [
      "Requirement already satisfied: pandas-market-calendars in c:\\users\\chhal\\documents\\discord_bot\\newsbased-market-predictor\\newspredictorenv\\lib\\site-packages (4.0)\n",
      "Requirement already satisfied: pytz in c:\\users\\chhal\\documents\\discord_bot\\newsbased-market-predictor\\newspredictorenv\\lib\\site-packages (from pandas-market-calendars) (2022.2.1)\n",
      "Requirement already satisfied: exchange-calendars>=3.3 in c:\\users\\chhal\\documents\\discord_bot\\newsbased-market-predictor\\newspredictorenv\\lib\\site-packages (from pandas-market-calendars) (4.2)\n",
      "Requirement already satisfied: pandas>=1.1 in c:\\users\\chhal\\documents\\discord_bot\\newsbased-market-predictor\\newspredictorenv\\lib\\site-packages (from pandas-market-calendars) (1.4.4)\n",
      "Requirement already satisfied: python-dateutil in c:\\users\\chhal\\documents\\discord_bot\\newsbased-market-predictor\\newspredictorenv\\lib\\site-packages (from pandas-market-calendars) (2.8.2)\n",
      "Requirement already satisfied: pyluach in c:\\users\\chhal\\documents\\discord_bot\\newsbased-market-predictor\\newspredictorenv\\lib\\site-packages (from exchange-calendars>=3.3->pandas-market-calendars) (2.0.1)\n",
      "Requirement already satisfied: toolz in c:\\users\\chhal\\documents\\discord_bot\\newsbased-market-predictor\\newspredictorenv\\lib\\site-packages (from exchange-calendars>=3.3->pandas-market-calendars) (0.12.0)\n",
      "Requirement already satisfied: korean-lunar-calendar in c:\\users\\chhal\\documents\\discord_bot\\newsbased-market-predictor\\newspredictorenv\\lib\\site-packages (from exchange-calendars>=3.3->pandas-market-calendars) (0.2.1)\n",
      "Requirement already satisfied: numpy in c:\\users\\chhal\\documents\\discord_bot\\newsbased-market-predictor\\newspredictorenv\\lib\\site-packages (from exchange-calendars>=3.3->pandas-market-calendars) (1.23.2)\n",
      "Requirement already satisfied: six>=1.5 in c:\\users\\chhal\\documents\\discord_bot\\newsbased-market-predictor\\newspredictorenv\\lib\\site-packages (from python-dateutil->pandas-market-calendars) (1.16.0)\n",
      "Requirement already satisfied: yfinance in c:\\users\\chhal\\documents\\discord_bot\\newsbased-market-predictor\\newspredictorenv\\lib\\site-packages (0.1.74)\n",
      "Requirement already satisfied: multitasking>=0.0.7 in c:\\users\\chhal\\documents\\discord_bot\\newsbased-market-predictor\\newspredictorenv\\lib\\site-packages (from yfinance) (0.0.11)\n",
      "Requirement already satisfied: lxml>=4.5.1 in c:\\users\\chhal\\documents\\discord_bot\\newsbased-market-predictor\\newspredictorenv\\lib\\site-packages (from yfinance) (4.9.1)\n",
      "Requirement already satisfied: requests>=2.26 in c:\\users\\chhal\\documents\\discord_bot\\newsbased-market-predictor\\newspredictorenv\\lib\\site-packages (from yfinance) (2.28.1)\n",
      "Requirement already satisfied: pandas>=0.24.0 in c:\\users\\chhal\\documents\\discord_bot\\newsbased-market-predictor\\newspredictorenv\\lib\\site-packages (from yfinance) (1.4.4)\n",
      "Requirement already satisfied: numpy>=1.15 in c:\\users\\chhal\\documents\\discord_bot\\newsbased-market-predictor\\newspredictorenv\\lib\\site-packages (from yfinance) (1.23.2)\n",
      "Requirement already satisfied: python-dateutil>=2.8.1 in c:\\users\\chhal\\documents\\discord_bot\\newsbased-market-predictor\\newspredictorenv\\lib\\site-packages (from pandas>=0.24.0->yfinance) (2.8.2)\n",
      "Requirement already satisfied: pytz>=2020.1 in c:\\users\\chhal\\documents\\discord_bot\\newsbased-market-predictor\\newspredictorenv\\lib\\site-packages (from pandas>=0.24.0->yfinance) (2022.2.1)\n",
      "Requirement already satisfied: charset-normalizer<3,>=2 in c:\\users\\chhal\\documents\\discord_bot\\newsbased-market-predictor\\newspredictorenv\\lib\\site-packages (from requests>=2.26->yfinance) (2.1.1)\n",
      "Requirement already satisfied: certifi>=2017.4.17 in c:\\users\\chhal\\documents\\discord_bot\\newsbased-market-predictor\\newspredictorenv\\lib\\site-packages (from requests>=2.26->yfinance) (2022.6.15)\n",
      "Requirement already satisfied: idna<4,>=2.5 in c:\\users\\chhal\\documents\\discord_bot\\newsbased-market-predictor\\newspredictorenv\\lib\\site-packages (from requests>=2.26->yfinance) (3.3)\n",
      "Requirement already satisfied: urllib3<1.27,>=1.21.1 in c:\\users\\chhal\\documents\\discord_bot\\newsbased-market-predictor\\newspredictorenv\\lib\\site-packages (from requests>=2.26->yfinance) (1.26.12)\n",
      "Requirement already satisfied: six>=1.5 in c:\\users\\chhal\\documents\\discord_bot\\newsbased-market-predictor\\newspredictorenv\\lib\\site-packages (from python-dateutil>=2.8.1->pandas>=0.24.0->yfinance) (1.16.0)\n",
      "Requirement already satisfied: pyspark in c:\\users\\chhal\\documents\\discord_bot\\newsbased-market-predictor\\newspredictorenv\\lib\\site-packages (3.3.0)\n",
      "Requirement already satisfied: py4j==0.10.9.5 in c:\\users\\chhal\\documents\\discord_bot\\newsbased-market-predictor\\newspredictorenv\\lib\\site-packages (from pyspark) (0.10.9.5)\n",
      "Requirement already satisfied: spark-nlp==4.1.0 in c:\\users\\chhal\\documents\\discord_bot\\newsbased-market-predictor\\newspredictorenv\\lib\\site-packages (4.1.0)\n"
     ]
    }
   ],
   "source": [
    "!pip install pandas-market-calendars\n",
    "!pip install yfinance\n",
    "!pip install pyspark\n",
    "!pip install spark-nlp==4.1.0"
   ]
  },
  {
   "cell_type": "code",
   "execution_count": 2,
   "id": "63847714",
   "metadata": {
    "id": "63847714"
   },
   "outputs": [],
   "source": [
    "# utilities\n",
    "import os\n",
    "import re\n",
    "import csv\n",
    "import numpy as np\n",
    "import pandas as pd\n",
    "import string\n",
    "import sqlite3\n",
    "import requests\n",
    "from datetime import datetime, time, date, timedelta\n",
    "\n",
    "# market Data management\n",
    "import yfinance as yf\n",
    "import holidays\n",
    "import pandas_market_calendars as mcal\n",
    "\n",
    "# Processing\n",
    "import nltk\n",
    "from nltk.corpus import stopwords\n",
    "from nltk.stem import WordNetLemmatizer"
   ]
  },
  {
   "cell_type": "markdown",
   "id": "8de8867d",
   "metadata": {
    "id": "8de8867d"
   },
   "source": [
    "### Get Stock Info"
   ]
  },
  {
   "cell_type": "code",
   "execution_count": 3,
   "id": "159f2066",
   "metadata": {
    "id": "159f2066"
   },
   "outputs": [],
   "source": [
    "SCREENER = { \n",
    "    \"india\" : \"India\"\n",
    "}\n",
    "\n",
    "stocks_list = []\n",
    "\n",
    "for types in [\"\", \"\\\"futures\\\"\"]:\n",
    "    for x, _ in SCREENER.items():\n",
    "#         print(f\"Loading screener: {x}\")\n",
    "        r = requests.post(f\"https://scanner.tradingview.com/{x}/scan\",\n",
    "                          data=f'{{\"symbols\":{{\"tickers\":[],\"query\":{{\"types\":[{types}]}}}},\"columns\":[\"description\"]}}')\n",
    "        for res in r.json()[\"data\"]:\n",
    "            name = res['d'][0]\n",
    "            exchange, symbol = res[\"s\"].split(\":\")\n",
    "            desc = res[\"d\"][0]\n",
    "            stocks_list.append({'name':name,'exchange': exchange, 'symbol':symbol})\n",
    "   \n",
    "stocks_df = pd.DataFrame(stocks_list)\n",
    "stocks_df = stocks_df.loc[stocks_df['exchange'] == 'NSE']"
   ]
  },
  {
   "cell_type": "code",
   "execution_count": 4,
   "id": "8f240d01",
   "metadata": {
    "id": "8f240d01"
   },
   "outputs": [],
   "source": [
    " ## content will be turned into lower case before searching\n",
    "stock_info = {\n",
    "    'tata motors' : 'TATAMOTORS.NS', \n",
    "    'reliance' : 'RELIANCE.NS',\n",
    "    'hdfc bank': 'HDFCBANK.NS',\n",
    "    'bajaj auto': 'BAJAJ-AUTO.NS',\n",
    "    'maruti suzuki': 'MARUTI.NS',\n",
    "    'hero motocorp': 'HEROMOTOCO.NS',\n",
    "    'britannia': 'BRITANNIA.NS',\n",
    "    'nestle': 'NESTLEIND.NS',\n",
    "    'ntpc': 'NTPC.NS',\n",
    "    'titan': 'TITAN.NS',\n",
    "    'cipla': 'CIPLA.NS',\n",
    "    'ongc': 'ONGC.NS',\n",
    "    'tcs': 'TCS.NS',\n",
    "    'l&t': 'LT.NS',\n",
    "    'coal india': 'COALINDIA.NS',\n",
    "    'kotak mahindra bank': 'KOTAKBANK.NS',\n",
    "    ' itc ': 'ITC.NS',\n",
    "    'bajaj finance': 'BAJFINANCE.NS',\n",
    "    'hdfc life': 'HDFCLIFE.NS',\n",
    "    'wipro': 'WIPRO.NS',\n",
    "    'tata steel': 'TATASTEEL.NS',\n",
    "    'induslnd bank': 'INDUSINDBK.NS',\n",
    "    'bajaj finserv': 'BAJAJFINSV.NS',\n",
    "    'ultratech cement': 'ULTRACEMCO.NS',\n",
    "    'airtel': 'BHARTIARTL.NS',\n",
    "    'hindalco': 'HINDALCO.NS',\n",
    "    'shree cement': 'SHREECEM.NS',\n",
    "    'tech mahindra': 'TECHM.NS'}"
   ]
  },
  {
   "cell_type": "markdown",
   "id": "63bdb856",
   "metadata": {
    "id": "63bdb856"
   },
   "source": [
    "### Load Articles "
   ]
  },
  {
   "cell_type": "code",
   "execution_count": 5,
   "id": "42f35e65",
   "metadata": {},
   "outputs": [],
   "source": [
    "DATA_DIR = os.path.abspath(os.path.join(os.path.dirname(os.getcwd()), 'data'))"
   ]
  },
  {
   "cell_type": "code",
   "execution_count": 6,
   "id": "1e2956dd",
   "metadata": {
    "id": "1e2956dd"
   },
   "outputs": [],
   "source": [
    "ARTICLES_UPDATED = False"
   ]
  },
  {
   "cell_type": "code",
   "execution_count": 7,
   "id": "4da1603a",
   "metadata": {
    "id": "4da1603a"
   },
   "outputs": [],
   "source": [
    "if not ARTICLES_UPDATED:\n",
    "    df = pd.read_csv(os.path.join(DATA_DIR,'article_data_raw.csv'))\n",
    "    article_data = pd.DataFrame()\n",
    "    \n",
    "    for i in range(0,len(df),5):\n",
    "        row = {'Datetime' :[ df.iloc[i+1,1]],\n",
    "               'Title' : [df.iloc[i,1]],\n",
    "               'Description' : [df.iloc[i+2,1]],\n",
    "               'Content' : [df.iloc[i+3,1]]}\n",
    "        df_row = pd.DataFrame(row)\n",
    "\n",
    "        article_data = pd.concat([article_data,df_row], ignore_index = True)\n",
    "    \n",
    "    # change content to lower case    \n",
    "    article_data['Content'] = article_data['Content'].astype(str).str.lower()\n",
    "    article_data.to_csv(os.path.join(DATA_DIR,'article_data.csv'),index=False)"
   ]
  },
  {
   "cell_type": "code",
   "execution_count": 8,
   "id": "0c53420f",
   "metadata": {
    "id": "0c53420f"
   },
   "outputs": [
    {
     "data": {
      "text/html": [
       "<div>\n",
       "<style scoped>\n",
       "    .dataframe tbody tr th:only-of-type {\n",
       "        vertical-align: middle;\n",
       "    }\n",
       "\n",
       "    .dataframe tbody tr th {\n",
       "        vertical-align: top;\n",
       "    }\n",
       "\n",
       "    .dataframe thead th {\n",
       "        text-align: right;\n",
       "    }\n",
       "</style>\n",
       "<table border=\"1\" class=\"dataframe\">\n",
       "  <thead>\n",
       "    <tr style=\"text-align: right;\">\n",
       "      <th></th>\n",
       "      <th>Datetime</th>\n",
       "      <th>Title</th>\n",
       "      <th>Description</th>\n",
       "      <th>Content</th>\n",
       "    </tr>\n",
       "  </thead>\n",
       "  <tbody>\n",
       "    <tr>\n",
       "      <th>0</th>\n",
       "      <td>2019-11-27 09:40:00+00:00</td>\n",
       "      <td>Maharashtra government formation: Uddhav Thack...</td>\n",
       "      <td>Thackeray, to be sworn-in as CM on Thursday, w...</td>\n",
       "      <td>maharashtra cm-designate and shiv sena chief u...</td>\n",
       "    </tr>\n",
       "    <tr>\n",
       "      <th>1</th>\n",
       "      <td>2019-11-26 15:24:00+00:00</td>\n",
       "      <td>Maharashtra government formation | Ajit Pawar ...</td>\n",
       "      <td>The resignation comes an hour before Maharasht...</td>\n",
       "      <td>days after he was sworn-in as the deputy chief...</td>\n",
       "    </tr>\n",
       "    <tr>\n",
       "      <th>2</th>\n",
       "      <td>2019-11-27 22:25:00+00:00</td>\n",
       "      <td>Aaditya Thackeray meets Sonia Gandhi, invites ...</td>\n",
       "      <td>Aaditya Thackeray had a brief meeting with Gan...</td>\n",
       "      <td>shiv sena leader aaditya thackeray on november...</td>\n",
       "    </tr>\n",
       "    <tr>\n",
       "      <th>3</th>\n",
       "      <td>2019-11-29 15:17:00+00:00</td>\n",
       "      <td>PM Modi announces $450 million line of credit ...</td>\n",
       "      <td>The talks focused on issues like fulfilling as...</td>\n",
       "      <td>prime minister narendra modi announced on frid...</td>\n",
       "    </tr>\n",
       "    <tr>\n",
       "      <th>4</th>\n",
       "      <td>2019-11-28 18:50:00+00:00</td>\n",
       "      <td>Manchester City owners acquire ISL team Mumbai...</td>\n",
       "      <td>With acquisition of Mumbai City FC, City Footb...</td>\n",
       "      <td>the owners of premier league champions manches...</td>\n",
       "    </tr>\n",
       "    <tr>\n",
       "      <th>...</th>\n",
       "      <td>...</td>\n",
       "      <td>...</td>\n",
       "      <td>...</td>\n",
       "      <td>...</td>\n",
       "    </tr>\n",
       "    <tr>\n",
       "      <th>682</th>\n",
       "      <td>2020-01-13 15:56:00+00:00</td>\n",
       "      <td>5 things you should know about BS VI-compliant...</td>\n",
       "      <td>The company is offering two new colours with t...</td>\n",
       "      <td>royal enfield made its entry in the bs vi-comp...</td>\n",
       "    </tr>\n",
       "    <tr>\n",
       "      <th>683</th>\n",
       "      <td>2020-01-18 17:03:00+00:00</td>\n",
       "      <td>This week in Auto: Bajaj Chetak launced; Compa...</td>\n",
       "      <td>Here is a complete round-up of the big news fr...</td>\n",
       "      <td>bajaj finally made the chetak available again ...</td>\n",
       "    </tr>\n",
       "    <tr>\n",
       "      <th>684</th>\n",
       "      <td>2020-01-21 09:05:00+00:00</td>\n",
       "      <td>Secure credit and debit card usage: How RBI's ...</td>\n",
       "      <td>These are good steps towards curbing card frau...</td>\n",
       "      <td>using your credit and debit cards is about to ...</td>\n",
       "    </tr>\n",
       "    <tr>\n",
       "      <th>685</th>\n",
       "      <td>2020-01-13 22:38:00+00:00</td>\n",
       "      <td>Tesla offers $1 million to white hat hackers i...</td>\n",
       "      <td>While a million dollars may seem like a substa...</td>\n",
       "      <td>tesla has been heavily investing in cybersecur...</td>\n",
       "    </tr>\n",
       "    <tr>\n",
       "      <th>686</th>\n",
       "      <td>2020-01-20 10:23:00+00:00</td>\n",
       "      <td>Indians spent $120mn, downloaded 19 bn mobile ...</td>\n",
       "      <td>PUBG Mobile registered maximum spending in Ind...</td>\n",
       "      <td>india is the second-largest market for app dow...</td>\n",
       "    </tr>\n",
       "  </tbody>\n",
       "</table>\n",
       "<p>687 rows × 4 columns</p>\n",
       "</div>"
      ],
      "text/plain": [
       "                      Datetime  \\\n",
       "0    2019-11-27 09:40:00+00:00   \n",
       "1    2019-11-26 15:24:00+00:00   \n",
       "2    2019-11-27 22:25:00+00:00   \n",
       "3    2019-11-29 15:17:00+00:00   \n",
       "4    2019-11-28 18:50:00+00:00   \n",
       "..                         ...   \n",
       "682  2020-01-13 15:56:00+00:00   \n",
       "683  2020-01-18 17:03:00+00:00   \n",
       "684  2020-01-21 09:05:00+00:00   \n",
       "685  2020-01-13 22:38:00+00:00   \n",
       "686  2020-01-20 10:23:00+00:00   \n",
       "\n",
       "                                                 Title  \\\n",
       "0    Maharashtra government formation: Uddhav Thack...   \n",
       "1    Maharashtra government formation | Ajit Pawar ...   \n",
       "2    Aaditya Thackeray meets Sonia Gandhi, invites ...   \n",
       "3    PM Modi announces $450 million line of credit ...   \n",
       "4    Manchester City owners acquire ISL team Mumbai...   \n",
       "..                                                 ...   \n",
       "682  5 things you should know about BS VI-compliant...   \n",
       "683  This week in Auto: Bajaj Chetak launced; Compa...   \n",
       "684  Secure credit and debit card usage: How RBI's ...   \n",
       "685  Tesla offers $1 million to white hat hackers i...   \n",
       "686  Indians spent $120mn, downloaded 19 bn mobile ...   \n",
       "\n",
       "                                           Description  \\\n",
       "0    Thackeray, to be sworn-in as CM on Thursday, w...   \n",
       "1    The resignation comes an hour before Maharasht...   \n",
       "2    Aaditya Thackeray had a brief meeting with Gan...   \n",
       "3    The talks focused on issues like fulfilling as...   \n",
       "4    With acquisition of Mumbai City FC, City Footb...   \n",
       "..                                                 ...   \n",
       "682  The company is offering two new colours with t...   \n",
       "683  Here is a complete round-up of the big news fr...   \n",
       "684  These are good steps towards curbing card frau...   \n",
       "685  While a million dollars may seem like a substa...   \n",
       "686  PUBG Mobile registered maximum spending in Ind...   \n",
       "\n",
       "                                               Content  \n",
       "0    maharashtra cm-designate and shiv sena chief u...  \n",
       "1    days after he was sworn-in as the deputy chief...  \n",
       "2    shiv sena leader aaditya thackeray on november...  \n",
       "3    prime minister narendra modi announced on frid...  \n",
       "4    the owners of premier league champions manches...  \n",
       "..                                                 ...  \n",
       "682  royal enfield made its entry in the bs vi-comp...  \n",
       "683  bajaj finally made the chetak available again ...  \n",
       "684  using your credit and debit cards is about to ...  \n",
       "685  tesla has been heavily investing in cybersecur...  \n",
       "686  india is the second-largest market for app dow...  \n",
       "\n",
       "[687 rows x 4 columns]"
      ]
     },
     "execution_count": 8,
     "metadata": {},
     "output_type": "execute_result"
    }
   ],
   "source": [
    "df_main = pd.read_csv(os.path.join(DATA_DIR,'article_data.csv'))\n",
    "df_main"
   ]
  },
  {
   "cell_type": "code",
   "execution_count": 9,
   "id": "b83173e5",
   "metadata": {
    "id": "b83173e5"
   },
   "outputs": [],
   "source": [
    "def find_stock_in_content(content):\n",
    "    content = str(content)\n",
    "    for stock in stock_info.keys():\n",
    "        if stock in content:\n",
    "            return stock_info[stock]"
   ]
  },
  {
   "cell_type": "markdown",
   "id": "56426c7d",
   "metadata": {
    "id": "56426c7d"
   },
   "source": [
    "### Get stock movement after news"
   ]
  },
  {
   "cell_type": "code",
   "execution_count": 10,
   "id": "a4ad1e3a",
   "metadata": {
    "id": "a4ad1e3a"
   },
   "outputs": [],
   "source": [
    "bse = mcal.get_calendar('BSE')\n",
    "holidays = bse.holidays().holidays\n",
    "\n",
    "def next_trading_date(date):\n",
    "    date += timedelta(1)\n",
    "    while (date in holidays) or (date.isoweekday() > 5):\n",
    "        date += timedelta(1)\n",
    "    return date"
   ]
  },
  {
   "cell_type": "code",
   "execution_count": 11,
   "id": "ec9fe3b1",
   "metadata": {
    "id": "ec9fe3b1"
   },
   "outputs": [],
   "source": [
    "def get_change(ticker,dt):\n",
    "    \n",
    "    srt_date = dt.date()\n",
    "    start_time = dt.time()\n",
    "    \n",
    "    # if after market\n",
    "    if(start_time > time(15,0,0)):\n",
    "        srt_date = next_trading_date(srt_date)\n",
    "        start_time = time(9,30,0)\n",
    "    \n",
    "    # before market open\n",
    "    elif(start_time < time(9,30,0)):\n",
    "        srt_date = next_trading_date(srt_date - timedelta(1))\n",
    "        start_time = time(9,30,0)\n",
    "    \n",
    "    # during market hours and market closed \n",
    "    elif(srt_date != next_trading_date(srt_date - timedelta(1))):\n",
    "        start_date = next_trading_date(srt_date)\n",
    "        start_time = time(9,30,0)\n",
    "        \n",
    "#     print(srt_date, start_time)\n",
    "    data = yf.download(tickers=ticker, start=srt_date,end=srt_date+timedelta(1),start_time=start_time,period='1d')\n",
    "\n",
    "    if data.empty:\n",
    "        return np.nan\n",
    "    change = ((data['Adj Close'][0] - data['Open'][0]) / data['Open'][0]) * 100\n",
    "    return round(change,2)"
   ]
  },
  {
   "cell_type": "code",
   "execution_count": 12,
   "id": "9066121c",
   "metadata": {
    "id": "9066121c"
   },
   "outputs": [
    {
     "name": "stdout",
     "output_type": "stream",
     "text": [
      "[*********************100%***********************]  1 of 1 completed\n",
      "[*********************100%***********************]  1 of 1 completed\n",
      "[*********************100%***********************]  1 of 1 completed\n",
      "[*********************100%***********************]  1 of 1 completed\n",
      "[*********************100%***********************]  1 of 1 completed\n",
      "[*********************100%***********************]  1 of 1 completed\n",
      "[*********************100%***********************]  1 of 1 completed\n",
      "[*********************100%***********************]  1 of 1 completed\n",
      "\n",
      "1 Failed download:\n",
      "- TATAMOTORS.NS: No data found for this date range, symbol may be delisted\n",
      "[*********************100%***********************]  1 of 1 completed\n",
      "[*********************100%***********************]  1 of 1 completed\n",
      "[*********************100%***********************]  1 of 1 completed\n",
      "[*********************100%***********************]  1 of 1 completed\n",
      "[*********************100%***********************]  1 of 1 completed\n",
      "[*********************100%***********************]  1 of 1 completed\n",
      "[*********************100%***********************]  1 of 1 completed\n",
      "[*********************100%***********************]  1 of 1 completed\n",
      "[*********************100%***********************]  1 of 1 completed\n",
      "[*********************100%***********************]  1 of 1 completed\n",
      "[*********************100%***********************]  1 of 1 completed\n",
      "[*********************100%***********************]  1 of 1 completed\n",
      "[*********************100%***********************]  1 of 1 completed\n",
      "[*********************100%***********************]  1 of 1 completed\n",
      "[*********************100%***********************]  1 of 1 completed\n",
      "[*********************100%***********************]  1 of 1 completed\n",
      "[*********************100%***********************]  1 of 1 completed\n",
      "[*********************100%***********************]  1 of 1 completed\n",
      "[*********************100%***********************]  1 of 1 completed\n",
      "[*********************100%***********************]  1 of 1 completed\n",
      "[*********************100%***********************]  1 of 1 completed\n",
      "[*********************100%***********************]  1 of 1 completed\n",
      "[*********************100%***********************]  1 of 1 completed\n",
      "[*********************100%***********************]  1 of 1 completed\n",
      "[*********************100%***********************]  1 of 1 completed\n",
      "[*********************100%***********************]  1 of 1 completed\n",
      "[*********************100%***********************]  1 of 1 completed\n",
      "[*********************100%***********************]  1 of 1 completed\n",
      "[*********************100%***********************]  1 of 1 completed\n",
      "[*********************100%***********************]  1 of 1 completed\n",
      "[*********************100%***********************]  1 of 1 completed\n",
      "[*********************100%***********************]  1 of 1 completed\n",
      "[*********************100%***********************]  1 of 1 completed\n",
      "[*********************100%***********************]  1 of 1 completed\n",
      "[*********************100%***********************]  1 of 1 completed\n",
      "[*********************100%***********************]  1 of 1 completed\n",
      "[*********************100%***********************]  1 of 1 completed\n",
      "[*********************100%***********************]  1 of 1 completed\n",
      "[*********************100%***********************]  1 of 1 completed\n",
      "[*********************100%***********************]  1 of 1 completed\n",
      "[*********************100%***********************]  1 of 1 completed\n",
      "[*********************100%***********************]  1 of 1 completed\n",
      "[*********************100%***********************]  1 of 1 completed\n",
      "[*********************100%***********************]  1 of 1 completed\n",
      "[*********************100%***********************]  1 of 1 completed\n",
      "[*********************100%***********************]  1 of 1 completed\n",
      "[*********************100%***********************]  1 of 1 completed\n",
      "[*********************100%***********************]  1 of 1 completed\n",
      "[*********************100%***********************]  1 of 1 completed\n",
      "[*********************100%***********************]  1 of 1 completed\n",
      "[*********************100%***********************]  1 of 1 completed\n",
      "[*********************100%***********************]  1 of 1 completed\n",
      "[*********************100%***********************]  1 of 1 completed\n",
      "[*********************100%***********************]  1 of 1 completed\n",
      "[*********************100%***********************]  1 of 1 completed\n",
      "[*********************100%***********************]  1 of 1 completed\n",
      "[*********************100%***********************]  1 of 1 completed\n",
      "[*********************100%***********************]  1 of 1 completed\n",
      "[*********************100%***********************]  1 of 1 completed\n",
      "[*********************100%***********************]  1 of 1 completed\n",
      "[*********************100%***********************]  1 of 1 completed\n",
      "[*********************100%***********************]  1 of 1 completed\n",
      "[*********************100%***********************]  1 of 1 completed\n",
      "[*********************100%***********************]  1 of 1 completed\n",
      "[*********************100%***********************]  1 of 1 completed\n",
      "[*********************100%***********************]  1 of 1 completed\n",
      "[*********************100%***********************]  1 of 1 completed\n",
      "[*********************100%***********************]  1 of 1 completed\n",
      "[*********************100%***********************]  1 of 1 completed\n"
     ]
    }
   ],
   "source": [
    "# Add change percentage of stock after news\n",
    "CHANGE_CSV = False\n",
    "\n",
    "if not CHANGE_CSV:\n",
    "  change = []\n",
    "  for i in range (len(df_main)):\n",
    "      row = df_main.iloc[i,:]\n",
    "      dt = datetime.strptime(row['Datetime'], '%Y-%m-%d %H:%M:%S%z')\n",
    "      content = row['Content']\n",
    "      \n",
    "      ticker = find_stock_in_content(content)\n",
    "      if ticker != None:\n",
    "          change.append(get_change(ticker,dt))\n",
    "      else :\n",
    "          change.append(np.nan)\n",
    "\n",
    "  df_main['Change'] = change\n",
    "  df_main.to_csv(os.path.join(DATA_DIR,'change_percent_data.csv'),index=False)\n",
    "  "
   ]
  },
  {
   "cell_type": "markdown",
   "id": "S0krsMKpisgJ",
   "metadata": {
    "id": "S0krsMKpisgJ"
   },
   "source": [
    "Processing steps -\n",
    "*   cleaning\n",
    "*   tokenization\n",
    "*   stop word removal \n",
    "*   lemmetization\n",
    "*   stemming"
   ]
  },
  {
   "cell_type": "code",
   "execution_count": 13,
   "id": "PLJyVg2hkWj-",
   "metadata": {
    "id": "PLJyVg2hkWj-"
   },
   "outputs": [],
   "source": [
    "df_main = pd.read_csv(os.path.join(DATA_DIR,'change_percent_data.csv'))"
   ]
  },
  {
   "cell_type": "code",
   "execution_count": 14,
   "id": "993b1dd3",
   "metadata": {},
   "outputs": [
    {
     "data": {
      "text/html": [
       "<div>\n",
       "<style scoped>\n",
       "    .dataframe tbody tr th:only-of-type {\n",
       "        vertical-align: middle;\n",
       "    }\n",
       "\n",
       "    .dataframe tbody tr th {\n",
       "        vertical-align: top;\n",
       "    }\n",
       "\n",
       "    .dataframe thead th {\n",
       "        text-align: right;\n",
       "    }\n",
       "</style>\n",
       "<table border=\"1\" class=\"dataframe\">\n",
       "  <thead>\n",
       "    <tr style=\"text-align: right;\">\n",
       "      <th></th>\n",
       "      <th>Datetime</th>\n",
       "      <th>Title</th>\n",
       "      <th>Description</th>\n",
       "      <th>Content</th>\n",
       "      <th>Change</th>\n",
       "    </tr>\n",
       "  </thead>\n",
       "  <tbody>\n",
       "    <tr>\n",
       "      <th>0</th>\n",
       "      <td>2019-11-27 09:40:00+00:00</td>\n",
       "      <td>Maharashtra government formation: Uddhav Thack...</td>\n",
       "      <td>Thackeray, to be sworn-in as CM on Thursday, w...</td>\n",
       "      <td>maharashtra cm-designate and shiv sena chief u...</td>\n",
       "      <td>NaN</td>\n",
       "    </tr>\n",
       "    <tr>\n",
       "      <th>1</th>\n",
       "      <td>2019-11-26 15:24:00+00:00</td>\n",
       "      <td>Maharashtra government formation | Ajit Pawar ...</td>\n",
       "      <td>The resignation comes an hour before Maharasht...</td>\n",
       "      <td>days after he was sworn-in as the deputy chief...</td>\n",
       "      <td>NaN</td>\n",
       "    </tr>\n",
       "    <tr>\n",
       "      <th>2</th>\n",
       "      <td>2019-11-27 22:25:00+00:00</td>\n",
       "      <td>Aaditya Thackeray meets Sonia Gandhi, invites ...</td>\n",
       "      <td>Aaditya Thackeray had a brief meeting with Gan...</td>\n",
       "      <td>shiv sena leader aaditya thackeray on november...</td>\n",
       "      <td>NaN</td>\n",
       "    </tr>\n",
       "    <tr>\n",
       "      <th>3</th>\n",
       "      <td>2019-11-29 15:17:00+00:00</td>\n",
       "      <td>PM Modi announces $450 million line of credit ...</td>\n",
       "      <td>The talks focused on issues like fulfilling as...</td>\n",
       "      <td>prime minister narendra modi announced on frid...</td>\n",
       "      <td>NaN</td>\n",
       "    </tr>\n",
       "    <tr>\n",
       "      <th>4</th>\n",
       "      <td>2019-11-28 18:50:00+00:00</td>\n",
       "      <td>Manchester City owners acquire ISL team Mumbai...</td>\n",
       "      <td>With acquisition of Mumbai City FC, City Footb...</td>\n",
       "      <td>the owners of premier league champions manches...</td>\n",
       "      <td>NaN</td>\n",
       "    </tr>\n",
       "    <tr>\n",
       "      <th>...</th>\n",
       "      <td>...</td>\n",
       "      <td>...</td>\n",
       "      <td>...</td>\n",
       "      <td>...</td>\n",
       "      <td>...</td>\n",
       "    </tr>\n",
       "    <tr>\n",
       "      <th>682</th>\n",
       "      <td>2020-01-13 15:56:00+00:00</td>\n",
       "      <td>5 things you should know about BS VI-compliant...</td>\n",
       "      <td>The company is offering two new colours with t...</td>\n",
       "      <td>royal enfield made its entry in the bs vi-comp...</td>\n",
       "      <td>NaN</td>\n",
       "    </tr>\n",
       "    <tr>\n",
       "      <th>683</th>\n",
       "      <td>2020-01-18 17:03:00+00:00</td>\n",
       "      <td>This week in Auto: Bajaj Chetak launced; Compa...</td>\n",
       "      <td>Here is a complete round-up of the big news fr...</td>\n",
       "      <td>bajaj finally made the chetak available again ...</td>\n",
       "      <td>-11.59</td>\n",
       "    </tr>\n",
       "    <tr>\n",
       "      <th>684</th>\n",
       "      <td>2020-01-21 09:05:00+00:00</td>\n",
       "      <td>Secure credit and debit card usage: How RBI's ...</td>\n",
       "      <td>These are good steps towards curbing card frau...</td>\n",
       "      <td>using your credit and debit cards is about to ...</td>\n",
       "      <td>NaN</td>\n",
       "    </tr>\n",
       "    <tr>\n",
       "      <th>685</th>\n",
       "      <td>2020-01-13 22:38:00+00:00</td>\n",
       "      <td>Tesla offers $1 million to white hat hackers i...</td>\n",
       "      <td>While a million dollars may seem like a substa...</td>\n",
       "      <td>tesla has been heavily investing in cybersecur...</td>\n",
       "      <td>NaN</td>\n",
       "    </tr>\n",
       "    <tr>\n",
       "      <th>686</th>\n",
       "      <td>2020-01-20 10:23:00+00:00</td>\n",
       "      <td>Indians spent $120mn, downloaded 19 bn mobile ...</td>\n",
       "      <td>PUBG Mobile registered maximum spending in Ind...</td>\n",
       "      <td>india is the second-largest market for app dow...</td>\n",
       "      <td>NaN</td>\n",
       "    </tr>\n",
       "  </tbody>\n",
       "</table>\n",
       "<p>687 rows × 5 columns</p>\n",
       "</div>"
      ],
      "text/plain": [
       "                      Datetime  \\\n",
       "0    2019-11-27 09:40:00+00:00   \n",
       "1    2019-11-26 15:24:00+00:00   \n",
       "2    2019-11-27 22:25:00+00:00   \n",
       "3    2019-11-29 15:17:00+00:00   \n",
       "4    2019-11-28 18:50:00+00:00   \n",
       "..                         ...   \n",
       "682  2020-01-13 15:56:00+00:00   \n",
       "683  2020-01-18 17:03:00+00:00   \n",
       "684  2020-01-21 09:05:00+00:00   \n",
       "685  2020-01-13 22:38:00+00:00   \n",
       "686  2020-01-20 10:23:00+00:00   \n",
       "\n",
       "                                                 Title  \\\n",
       "0    Maharashtra government formation: Uddhav Thack...   \n",
       "1    Maharashtra government formation | Ajit Pawar ...   \n",
       "2    Aaditya Thackeray meets Sonia Gandhi, invites ...   \n",
       "3    PM Modi announces $450 million line of credit ...   \n",
       "4    Manchester City owners acquire ISL team Mumbai...   \n",
       "..                                                 ...   \n",
       "682  5 things you should know about BS VI-compliant...   \n",
       "683  This week in Auto: Bajaj Chetak launced; Compa...   \n",
       "684  Secure credit and debit card usage: How RBI's ...   \n",
       "685  Tesla offers $1 million to white hat hackers i...   \n",
       "686  Indians spent $120mn, downloaded 19 bn mobile ...   \n",
       "\n",
       "                                           Description  \\\n",
       "0    Thackeray, to be sworn-in as CM on Thursday, w...   \n",
       "1    The resignation comes an hour before Maharasht...   \n",
       "2    Aaditya Thackeray had a brief meeting with Gan...   \n",
       "3    The talks focused on issues like fulfilling as...   \n",
       "4    With acquisition of Mumbai City FC, City Footb...   \n",
       "..                                                 ...   \n",
       "682  The company is offering two new colours with t...   \n",
       "683  Here is a complete round-up of the big news fr...   \n",
       "684  These are good steps towards curbing card frau...   \n",
       "685  While a million dollars may seem like a substa...   \n",
       "686  PUBG Mobile registered maximum spending in Ind...   \n",
       "\n",
       "                                               Content  Change  \n",
       "0    maharashtra cm-designate and shiv sena chief u...     NaN  \n",
       "1    days after he was sworn-in as the deputy chief...     NaN  \n",
       "2    shiv sena leader aaditya thackeray on november...     NaN  \n",
       "3    prime minister narendra modi announced on frid...     NaN  \n",
       "4    the owners of premier league champions manches...     NaN  \n",
       "..                                                 ...     ...  \n",
       "682  royal enfield made its entry in the bs vi-comp...     NaN  \n",
       "683  bajaj finally made the chetak available again ...  -11.59  \n",
       "684  using your credit and debit cards is about to ...     NaN  \n",
       "685  tesla has been heavily investing in cybersecur...     NaN  \n",
       "686  india is the second-largest market for app dow...     NaN  \n",
       "\n",
       "[687 rows x 5 columns]"
      ]
     },
     "execution_count": 14,
     "metadata": {},
     "output_type": "execute_result"
    }
   ],
   "source": [
    "df_main"
   ]
  },
  {
   "cell_type": "markdown",
   "id": "2a8lGk-1jiex",
   "metadata": {
    "id": "2a8lGk-1jiex"
   },
   "source": [
    "### 1. Cleaning"
   ]
  },
  {
   "cell_type": "code",
   "execution_count": 15,
   "id": "d0e7fc22",
   "metadata": {
    "id": "d0e7fc22"
   },
   "outputs": [],
   "source": [
    "def clean_content(content):\n",
    "    content = str(content)\n",
    "    \n",
    "    # remove all the punctuations\n",
    "    content = re.sub(r'[^\\w\\s]', '', content)\n",
    "    \n",
    "    # remove all numbers\n",
    "    content = content.translate(str.maketrans('','',string.digits))\n",
    "    \n",
    "    # remove double spacing\n",
    "    content = re.sub(' +', ' ', content)\n",
    "    \n",
    "    return content"
   ]
  },
  {
   "cell_type": "code",
   "execution_count": 16,
   "id": "2cdd0573",
   "metadata": {
    "id": "2cdd0573"
   },
   "outputs": [],
   "source": [
    "# Clean contents\n",
    "df_main.dropna(inplace=True)\n",
    "df_main['Content'] = df_main['Content'].map((lambda c: clean_content(c)),na_action=None)"
   ]
  },
  {
   "cell_type": "markdown",
   "id": "YScPN6R1jqCl",
   "metadata": {
    "id": "YScPN6R1jqCl"
   },
   "source": [
    "### 2.Tokenization"
   ]
  },
  {
   "cell_type": "code",
   "execution_count": 17,
   "id": "A3Ly0HKzjogA",
   "metadata": {
    "colab": {
     "base_uri": "https://localhost:8080/"
    },
    "id": "A3Ly0HKzjogA",
    "outputId": "29c0d2af-1414-4d9c-9a10-14d8da37a753"
   },
   "outputs": [
    {
     "name": "stderr",
     "output_type": "stream",
     "text": [
      "[nltk_data] Downloading package punkt to\n",
      "[nltk_data]     C:\\Users\\chhal\\AppData\\Roaming\\nltk_data...\n",
      "[nltk_data]   Package punkt is already up-to-date!\n",
      "[nltk_data] Downloading package wordnet to\n",
      "[nltk_data]     C:\\Users\\chhal\\AppData\\Roaming\\nltk_data...\n",
      "[nltk_data]   Package wordnet is already up-to-date!\n"
     ]
    },
    {
     "data": {
      "text/plain": [
       "True"
      ]
     },
     "execution_count": 17,
     "metadata": {},
     "output_type": "execute_result"
    }
   ],
   "source": [
    "nltk.download('punkt')\n",
    "nltk.download('wordnet')"
   ]
  },
  {
   "cell_type": "code",
   "execution_count": 18,
   "id": "uZQsS12UjoqM",
   "metadata": {
    "id": "uZQsS12UjoqM"
   },
   "outputs": [],
   "source": [
    "df_main['Content'] = df_main['Content'].map((lambda c: nltk.word_tokenize(c)),na_action=None)"
   ]
  },
  {
   "cell_type": "markdown",
   "id": "ZwK_X0iSmN15",
   "metadata": {
    "id": "ZwK_X0iSmN15"
   },
   "source": [
    "### 3. Stop word removal"
   ]
  },
  {
   "cell_type": "code",
   "execution_count": 19,
   "id": "5AWpA5LWjovX",
   "metadata": {
    "colab": {
     "base_uri": "https://localhost:8080/"
    },
    "id": "5AWpA5LWjovX",
    "outputId": "3ae99f9d-3efa-4dd4-d54e-91e9ae81221a"
   },
   "outputs": [
    {
     "name": "stderr",
     "output_type": "stream",
     "text": [
      "[nltk_data] Downloading package stopwords to\n",
      "[nltk_data]     C:\\Users\\chhal\\AppData\\Roaming\\nltk_data...\n",
      "[nltk_data]   Package stopwords is already up-to-date!\n"
     ]
    }
   ],
   "source": [
    "nltk.download('stopwords')\n",
    "stop_words = stopwords.words('english')\n",
    "\n",
    "def remove_stop_words(content):\n",
    "      return [x for x in content if x not in stop_words]"
   ]
  },
  {
   "cell_type": "code",
   "execution_count": 20,
   "id": "d3128d53",
   "metadata": {},
   "outputs": [],
   "source": [
    "df_main['Content'] = df_main['Content'].map((lambda c: remove_stop_words(c)),na_action=None)"
   ]
  },
  {
   "cell_type": "markdown",
   "id": "bb3f003a",
   "metadata": {
    "id": "bb3f003a"
   },
   "source": [
    "### 4. Lemmatization"
   ]
  },
  {
   "cell_type": "code",
   "execution_count": 21,
   "id": "3332d825",
   "metadata": {
    "id": "3332d825"
   },
   "outputs": [
    {
     "name": "stderr",
     "output_type": "stream",
     "text": [
      "[nltk_data] Downloading package omw-1.4 to\n",
      "[nltk_data]     C:\\Users\\chhal\\AppData\\Roaming\\nltk_data...\n",
      "[nltk_data]   Package omw-1.4 is already up-to-date!\n"
     ]
    }
   ],
   "source": [
    "nltk.download('omw-1.4')\n",
    "def lemmatize(content):\n",
    "    lemmatizer = WordNetLemmatizer()\n",
    "    return [lemmatizer.lemmatize(word) for word in content]"
   ]
  },
  {
   "cell_type": "code",
   "execution_count": 22,
   "id": "WUtUfAGem7c9",
   "metadata": {
    "id": "WUtUfAGem7c9"
   },
   "outputs": [],
   "source": [
    "df_main['Content'] = df_main['Content'].map((lambda c: lemmatize(c)),na_action=None)"
   ]
  },
  {
   "cell_type": "code",
   "execution_count": 23,
   "id": "e06341fe",
   "metadata": {},
   "outputs": [],
   "source": [
    "## convert lemmaatised list into comma seperated string\n",
    "def list_to_string(ls):\n",
    "    string = ''\n",
    "    for word in ls:\n",
    "        string += word + ','\n",
    "    return string.rstrip(',')\n",
    "\n",
    "df_main['Content'] = df_main['Content'].map((lambda c: list_to_string(c)),na_action=None)"
   ]
  },
  {
   "cell_type": "code",
   "execution_count": 24,
   "id": "f3292f44",
   "metadata": {
    "scrolled": false
   },
   "outputs": [],
   "source": [
    "df_main = df_main.reset_index().drop(columns=['index'])"
   ]
  },
  {
   "cell_type": "code",
   "execution_count": 25,
   "id": "3070f1bb",
   "metadata": {
    "scrolled": false
   },
   "outputs": [
    {
     "data": {
      "text/plain": [
       "Datetime       False\n",
       "Title          False\n",
       "Description    False\n",
       "Content        False\n",
       "Change         False\n",
       "dtype: bool"
      ]
     },
     "execution_count": 25,
     "metadata": {},
     "output_type": "execute_result"
    }
   ],
   "source": [
    "df_main.isnull().any()\n"
   ]
  },
  {
   "cell_type": "code",
   "execution_count": 26,
   "id": "51719482",
   "metadata": {},
   "outputs": [],
   "source": [
    "df_main.to_csv(os.path.join(DATA_DIR,'preprocessed_data.csv'),index=False,mode='a')"
   ]
  },
  {
   "cell_type": "code",
   "execution_count": null,
   "id": "e12eba40",
   "metadata": {},
   "outputs": [],
   "source": []
  }
 ],
 "metadata": {
  "colab": {
   "collapsed_sections": [],
   "provenance": []
  },
  "kernelspec": {
   "display_name": "newsPredictorEnv",
   "language": "python",
   "name": "newspredictorenv"
  },
  "language_info": {
   "codemirror_mode": {
    "name": "ipython",
    "version": 3
   },
   "file_extension": ".py",
   "mimetype": "text/x-python",
   "name": "python",
   "nbconvert_exporter": "python",
   "pygments_lexer": "ipython3",
   "version": "3.9.5"
  }
 },
 "nbformat": 4,
 "nbformat_minor": 5
}
